{
  "cells": [
    {
      "cell_type": "markdown",
      "metadata": {
      },
      "source": [
        "# 不通过`wallet`发送交易\n",
        "\n",
        "通过单击顶部栏上的`🚀` -&gt; `Binder`在线运行此示例！\n",
        "\n",
        "这个例子展示了如何在不使用`w3.wallet`的情况下签署和发送交易。这种方法更灵活，但同时使用起来也更复杂。如果您是 web3 开发新手，我们建议您参考[quickstart](./01-quickstart.ipynb)中发送事务的示例"
      ]
    },
    {
      "cell_type": "code",
      "execution_count": 1,
      "metadata": {
      },
      "outputs": [

      ],
      "source": [
        "import pprint\n",
        "from conflux_web3 import Web3\n",
        "from conflux_web3.utils import fill_transaction_defaults\n",
        "\n",
        "w3 = Web3(Web3.HTTPProvider(\"https://test.confluxrpc.com\"))\n",
        "account = w3.account.from_key(\"0x....\") # fill your secret key here"
      ]
    },
    {
      "cell_type": "markdown",
      "metadata": {
      },
      "source": [
        "## 手动发送交易\n",
        "\n",
        "基本上，我们遵循 4 个步骤的工作流程来发送交易：\n",
        "\n",
        "- 建立交易\n",
        "- 签署交易\n",
        "- 向区块链节点发送交易\n",
        "- 等待交易执行结果\n",
        "\n",
        "如果`w3.wallet`中添加了任何帐户，则前 3 步将合并，否则您需要手动执行前 3 步"
      ]
    },
    {
      "cell_type": "markdown",
      "metadata": {
      },
      "source": [
        "### 构造一个简单的交易\n",
        "\n",
        "这里只提供必要的参数，其他参数由`fill_transaction_defaults`填充。请参阅[constuct_transaction_from_scratch](./11-constuct_transaction_from_scratch.ipynb)以了解如何从头开始构建事务。"
      ]
    },
    {
      "cell_type": "code",
      "execution_count": 2,
      "metadata": {
      },
      "outputs": [

      ],
      "source": [
        "built_trivial_tx = fill_transaction_defaults(w3, {\n",
        "    'from': account.address,\n",
        "    'to': w3.account.create().address,\n",
        "    'value': 100,\n",
        "})"
      ]
    },
    {
      "cell_type": "markdown",
      "metadata": {
      },
      "source": [
        "### 为交易签名"
      ]
    },
    {
      "cell_type": "code",
      "execution_count": 3,
      "metadata": {
      },
      "outputs": [

      ],
      "source": [
        "signed_tx = account.sign_transaction(built_trivial_tx)"
      ]
    },
    {
      "cell_type": "markdown",
      "metadata": {
      },
      "source": [
        "### 发送交易"
      ]
    },
    {
      "cell_type": "code",
      "execution_count": 4,
      "metadata": {
      },
      "outputs": [

      ],
      "source": [
        "h = w3.cfx.send_raw_transaction(signed_tx.rawTransaction)"
      ]
    },
    {
      "cell_type": "markdown",
      "metadata": {
      },
      "source": [
        "### 等待"
      ]
    },
    {
      "cell_type": "code",
      "execution_count": 5,
      "metadata": {
      },
      "outputs": [

      ],
      "source": [
        "tx_receipt = h.executed()"
      ]
    },
    {
      "cell_type": "markdown",
      "metadata": {
      },
      "source": [
        "## 与没有钱包的合约交互"
      ]
    },
    {
      "cell_type": "code",
      "execution_count": 6,
      "metadata": {
      },
      "outputs": [
        {
          "name": "stdout",
          "output_type": "stream",
          "text": [
            "deployed contract address: cfxtest:acfgtrw53v4ju9jaydmr9yyf9xyvfxpe0e8ny2fd4d\n"
          ]
        }
      ],
      "source": [
        "# if you want to get contract object from metadata file, use\n",
        "# >>> erc20_metadata = json.load(open(\"path/to/ERC20metadata.json\"))\n",
        "# >>> erc20 = web3.cfx.contract(bytecode=erc20_metadata[\"bytecode\"], abi=erc20_metadata[\"abi\"])\n",
        "erc20 = w3.cfx.contract(name=\"ERC20\")\n",
        "\n",
        "# \"build transaction\"\n",
        "built_constuct_tx = erc20.constructor(name=\"Coin\", symbol=\"C\", initialSupply=10**18).build_transaction({\n",
        "    'from': account.address,\n",
        "})\n",
        "# \"sign transaction\"\n",
        "construct_tx = account.sign_transaction(built_constuct_tx)\n",
        "# \"send\" & \"wait\"\n",
        "contract_address = w3.cfx.send_raw_transaction(construct_tx.rawTransaction).executed()['contractCreated']\n",
        "print(f\"deployed contract address: {contract_address}\")"
      ]
    },
    {
      "cell_type": "code",
      "execution_count": 7,
      "metadata": {
      },
      "outputs": [
        {
          "name": "stdout",
          "output_type": "stream",
          "text": [
            "erc20 transfer receipt: \n",
            "{'blockHash': HexBytes('0x9b8a0a0e5eb33d67b2c85d4e951b0251e1b972cd00f7c18c53ecacb7fd7edfd3'),\n",
            " 'contractCreated': None,\n",
            " 'epochNumber': 99051304,\n",
            " 'from': 'cfxtest:aanhtnrex2nj56kkbws4yx0jeab34ae16pcap53w13',\n",
            " 'gasCoveredBySponsor': False,\n",
            " 'gasFee': 37063000000000 Drip,\n",
            " 'gasUsed': 37063,\n",
            " 'index': 0,\n",
            " 'logs': [AttributeDict({'address': 'cfxtest:acfgtrw53v4ju9jaydmr9yyf9xyvfxpe0e8ny2fd4d', 'topics': [HexBytes('0xddf252ad1be2c89b69c2b068fc378daa952ba7f163c4a11628f55a4df523b3ef'), HexBytes('0x0000000000000000000000001677ada49e168df1290c9daa4ec820039d0097e3'), HexBytes('0x0000000000000000000000001ab7c2bb12a3484451a55ed15285a4cf10196312')], 'data': HexBytes('0x0000000000000000000000000000000000000000000000000000000000000064')})],\n",
            " 'logsBloom': HexBytes('0x00000020000000000000000000000000000000000000000000000000000000000000000000000000000000000000000000000000000008000000000000000000000000000000000000200008000000000000000000000000000000000000000000000000000000000000000000000000000000000000000000000010000000000000000000000000000040000200000000000000000000200000000000000000000000000000000000000000000000000000000000000000000000000000000000000002000000000000000000000000000000000000000000000000000000000000000000000000200000000400000000000000000000020000000000000000'),\n",
            " 'outcomeStatus': 0,\n",
            " 'stateRoot': HexBytes('0xa14515ac4ad59a0ab8b7c4c1740eb5a97d0b55eabf3b5a0b185867e41d1a1699'),\n",
            " 'storageCollateralized': 64,\n",
            " 'storageCoveredBySponsor': False,\n",
            " 'storageReleased': [],\n",
            " 'to': 'cfxtest:acfgtrw53v4ju9jaydmr9yyf9xyvfxpe0e8ny2fd4d',\n",
            " 'transactionHash': HexBytes('0x224e75f10580194685cd2566bd7ec5fdefd09578fe770bddae2ba9f77842f11a'),\n",
            " 'txExecErrorMsg': None}\n"
          ]
        }
      ],
      "source": [
        "# interact with the deployed contract\n",
        "contract = w3.cfx.contract(address=contract_address, name=\"ERC20\")\n",
        "# \"build transaction\"\n",
        "built_transfer_tx = contract.functions.transfer(\n",
        "    w3.account.create().address,\n",
        "    100\n",
        ").build_transaction({\n",
        "    'from': account.address\n",
        "})\n",
        "# \"sign transaction\"\n",
        "signed_transfer_tx = account.sign_transaction(\n",
        "    built_transfer_tx\n",
        ")\n",
        "# \"send\" and \"wait\"\n",
        "print(\"erc20 transfer receipt: \")\n",
        "pprint.pprint(\n",
        "    dict(w3.cfx.send_raw_transaction(signed_transfer_tx.rawTransaction).executed())\n",
        ")"
      ]
    }
  ],
  "metadata": {
    "kernelspec": {
      "display_name": "Python 3.9.13 ('sdk')",
      "language": "python",
      "name": "python3"
    },
    "language_info": {
      "codemirror_mode": {
        "name": "ipython",
        "version": 3
      },
      "file_extension": ".py",
      "mimetype": "text/x-python",
      "name": "python",
      "nbconvert_exporter": "python",
      "pygments_lexer": "ipython3",
      "version": "3.9.13"
    },
    "orig_nbformat": 4,
    "vscode": {
      "interpreter": {
        "hash": "a3057bbf184bca29acc6a0538c16f383babaf4f383bee8205e8e826137244d0e"
      }
    }
  },
  "nbformat": 4,
  "nbformat_minor": 2
}
