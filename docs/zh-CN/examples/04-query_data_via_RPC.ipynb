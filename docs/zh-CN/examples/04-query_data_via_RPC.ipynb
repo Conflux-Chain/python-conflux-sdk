{
  "cells": [
    {
      "cell_type": "markdown",
      "metadata": {},
      "source": [
        "# 通过 RPC 查询数据\n",
        "\n",
        "单击顶部栏上的`🚀` -&gt; `Binder`在线运行此示例！"
      ]
    },
    {
      "cell_type": "markdown",
      "metadata": {},
      "source": [
        "## 准备"
      ]
    },
    {
      "cell_type": "code",
      "execution_count": 2,
      "metadata": {},
      "outputs": [],
      "source": [
        "# 准备阶段: 初始化 w3 对象\n",
        "from conflux_web3 import Web3\n",
        "\n",
        "w3 = Web3(Web3.HTTPProvider(\"https://test.confluxrpc.com\"))\n",
        "\n",
        "# 准备后文需要的常量\n",
        "transaction_hash = \"0x10a721e2654523a7ff682c1c8d3f868a9fdf78a3be1858bbe1f06147128d6d94\"\n",
        "epoch = 98943500"
      ]
    },
    {
      "cell_type": "markdown",
      "metadata": {},
      "source": [
        "## 通过 RPC 查询数据\n",
        "\n",
        "我们可以使用 SDK 通过 JSON-RPC 来查询区块链状态、交易数据、区块数据等。完整的 RPC 文档可以在[这里](https://developer.confluxnetwork.org/conflux-doc/docs/json_rpc/#json-rpc-methods)找到。"
      ]
    },
    {
      "cell_type": "markdown",
      "metadata": {},
      "source": [
        "### 查询区块链状态"
      ]
    },
    {
      "cell_type": "code",
      "execution_count": 3,
      "metadata": {},
      "outputs": [
        {
          "data": {
            "text/plain": [
              "AttributeDict({'bestHash': HexBytes('0xfccec01b7d00bf7c60039ac24e832cda36c3f99847d85bdebea5ad9c23e72af0'),\n",
              " 'chainId': 1,\n",
              " 'ethereumSpaceChainId': 71,\n",
              " 'networkId': 1,\n",
              " 'epochNumber': 99720385,\n",
              " 'blockNumber': 127806496,\n",
              " 'pendingTxNumber': 0,\n",
              " 'latestCheckpoint': 99640000,\n",
              " 'latestConfirmed': 99720321,\n",
              " 'latestState': 99720381,\n",
              " 'latestFinalized': 99719940})"
            ]
          },
          "execution_count": 3,
          "metadata": {},
          "output_type": "execute_result"
        }
      ],
      "source": [
        "# get_status 提供了区块链当前状态的概览\n",
        "w3.cfx.get_status()"
      ]
    },
    {
      "cell_type": "markdown",
      "metadata": {},
      "source": [
        "多个 RPC 方法都可以接受**epoch number 参数**。`epoch number`（纪元）参数可以是：\n",
        "\n",
        "- 一个整数\n",
        "- 或者是字符串形式的 epoch tag`latest_mined` , `latest_state` , `latest_confirmed`或`latest_finalized`\n",
        "\n",
        "Conflux 中的`epoch number`的概念类似于其他区块链中的`block number`的概念，但一个 epoch 包含一个或多个区块。详细信息请参阅 https://developer.confluxnetwork.org/conflux-doc/docs/json_rpc#the-default-epochnumber-parameter。"
      ]
    },
    {
      "cell_type": "code",
      "execution_count": 4,
      "metadata": {},
      "outputs": [
        {
          "name": "stdout",
          "output_type": "stream",
          "text": [
            "latest_mined epoch number: 99720385\n",
            "latest_state epoch numebr: 99720381\n"
          ]
        }
      ],
      "source": [
        "# latest_mined epoch number\n",
        "print(f\"latest_mined epoch number: {w3.cfx.epoch_number}\")\n",
        "# 通过 tag 获取纪元\n",
        "print(f'latest_state epoch numebr: {w3.cfx.epoch_number_by_tag(\"latest_state\")}')"
      ]
    },
    {
      "cell_type": "markdown",
      "metadata": {},
      "source": [
        "### 查询交易"
      ]
    },
    {
      "cell_type": "code",
      "execution_count": 5,
      "metadata": {},
      "outputs": [
        {
          "data": {
            "text/plain": [
              "AttributeDict({'hash': HexBytes('0x10a721e2654523a7ff682c1c8d3f868a9fdf78a3be1858bbe1f06147128d6d94'),\n",
              " 'nonce': 2,\n",
              " 'blockHash': HexBytes('0xf0ac5f8d757a7415876e322a245d5eff76349b656b3eadb10d5e09a4a3f7d59d'),\n",
              " 'transactionIndex': 0,\n",
              " 'from': 'cfxtest:aan2vyszrgz3sr3tug73ywb8k128y5wa7yhpjm1hn1',\n",
              " 'to': 'cfxtest:acejjfa80vj06j2jgtz9pngkv423fhkuxj786kjr61',\n",
              " 'value': 0 Drip,\n",
              " 'gasPrice': 1000000000 Drip,\n",
              " 'gas': 41633,\n",
              " 'contractCreated': None,\n",
              " 'data': HexBytes('0x5f3cc9f7'),\n",
              " 'storageLimit': 0,\n",
              " 'epochHeight': 87083312,\n",
              " 'chainId': 1,\n",
              " 'status': 0,\n",
              " 'v': 1,\n",
              " 'r': HexBytes('0x17b30481d63a49223092215a2aa503938519df5cac0d20cbff7ebf50569776cd'),\n",
              " 's': HexBytes('0x5fc96a1e383879cf66c09d106b2df4907c674a263c9a7bba602078c90b0038b1')})"
            ]
          },
          "execution_count": 5,
          "metadata": {},
          "output_type": "execute_result"
        }
      ],
      "source": [
        "# 通过交易哈希获取交易\n",
        "# 交易发出后这个 RPC 立刻可用\n",
        "w3.cfx.get_transaction_by_hash(transaction_hash)"
      ]
    },
    {
      "cell_type": "code",
      "execution_count": 6,
      "metadata": {},
      "outputs": [
        {
          "data": {
            "text/plain": [
              "AttributeDict({'transactionHash': HexBytes('0x10a721e2654523a7ff682c1c8d3f868a9fdf78a3be1858bbe1f06147128d6d94'),\n",
              " 'index': 0,\n",
              " 'blockHash': HexBytes('0xf0ac5f8d757a7415876e322a245d5eff76349b656b3eadb10d5e09a4a3f7d59d'),\n",
              " 'epochNumber': 87083316,\n",
              " 'from': 'cfxtest:aan2vyszrgz3sr3tug73ywb8k128y5wa7yhpjm1hn1',\n",
              " 'to': 'cfxtest:acejjfa80vj06j2jgtz9pngkv423fhkuxj786kjr61',\n",
              " 'gasUsed': 35480,\n",
              " 'gasFee': 35480000000000 Drip,\n",
              " 'contractCreated': None,\n",
              " 'logs': [],\n",
              " 'logsBloom': HexBytes('0x00000000000000000000000000000000000000000000000000000000000000000000000000000000000000000000000000000000000000000000000000000000000000000000000000000000000000000000000000000000000000000000000000000000000000000000000000000000000000000000000000000000000000000000000000000000000000000000000000000000000000000000000000000000000000000000000000000000000000000000000000000000000000000000000000000000000000000000000000000000000000000000000000000000000000000000000000000000000000000000000000000000000000000000000000000000'),\n",
              " 'stateRoot': HexBytes('0xdbfbe3f9b08aa5fb04ca5218ebc245b3941cce9d30409ab854456f3070b454f6'),\n",
              " 'outcomeStatus': 0,\n",
              " 'txExecErrorMsg': None,\n",
              " 'gasCoveredBySponsor': True,\n",
              " 'storageCoveredBySponsor': True,\n",
              " 'storageCollateralized': 0,\n",
              " 'storageReleased': []})"
            ]
          },
          "execution_count": 6,
          "metadata": {},
          "output_type": "execute_result"
        }
      ],
      "source": [
        "# 通过交易哈希获取交易receipt\n",
        "# 交易执行后才能获取到 receipt \n",
        "w3.cfx.get_transaction_receipt(transaction_hash)"
      ]
    },
    {
      "cell_type": "markdown",
      "metadata": {},
      "source": [
        "### 查询块\n",
        "\n",
        "在 Conflux 中，每个 epoch 包含 1 个或多个区块，其中一个块称为`pivot`区块。`pivot`区块确定各个 epoch 中都包含哪些区块。"
      ]
    },
    {
      "cell_type": "code",
      "execution_count": 7,
      "metadata": {},
      "outputs": [
        {
          "name": "stdout",
          "output_type": "stream",
          "text": [
            "blocks in epoch 98943500:\n",
            "[HexBytes('0xae622377e139608a9202504df4bf20570c4741370d36f668952ae91c57c5da69'), HexBytes('0x104a3549108c7c83a36c65d188e842f6deb9a770d3ca749a222fce628846c04b')]\n",
            "pivot block hash of epoch 98943500: 0x104a3549108c7c83a36c65d188e842f6deb9a770d3ca749a222fce628846c04b\n"
          ]
        }
      ],
      "source": [
        "# 查询某个 epoch 中包含的区块\n",
        "block_hashes = w3.cfx.get_blocks_by_epoch(epoch)\n",
        "print(f\"blocks in epoch {epoch}:\\n{block_hashes}\")\n",
        "# block_hashes 中最后一个元素一定为 pivot 区块\n",
        "print(f\"pivot block hash of epoch {epoch}: {block_hashes[-1].hex()}\")"
      ]
    },
    {
      "cell_type": "code",
      "execution_count": 8,
      "metadata": {},
      "outputs": [],
      "source": [
        "# 如果某个区块为 pivot 区块, 我们可以通过 epoch 查询到该区块\n",
        "# 当然，我们也可以通过哈希查询区块\n",
        "assert w3.cfx.get_block_by_epoch_number(epoch) == w3.cfx.get_block_by_hash(block_hashes[-1])"
      ]
    },
    {
      "cell_type": "code",
      "execution_count": 9,
      "metadata": {},
      "outputs": [
        {
          "data": {
            "text/plain": [
              "AttributeDict({'hash': HexBytes('0x37ab44387ae132e3eea6c666bfb5cd58af50d0b172ab21b0be5ff85073bc5592'),\n",
              " 'parentHash': HexBytes('0x9130a237d15b696d48daf1decf6f2908a98a57c9d2b543d1cce7f55c296cf7fd'),\n",
              " 'height': 99720383,\n",
              " 'miner': 'cfxtest:aang4d91rejdbpgmgtmspdyefxkubj2bbywrwm9j3z',\n",
              " 'deferredStateRoot': HexBytes('0x48edc4d8dbe77ac589cf30087ad3165ee533101882698812f9f4bcff0ff66252'),\n",
              " 'deferredReceiptsRoot': HexBytes('0x09f8709ea9f344a810811a373b30861568f5686e649d6177fd92ea2db7477508'),\n",
              " 'deferredLogsBloomHash': HexBytes('0xd397b3b043d87fcd6fad1291ff0bfd16401c274896d8c63a923727f077b8e0b5'),\n",
              " 'blame': 0,\n",
              " 'transactionsRoot': HexBytes('0xc5d2460186f7233c927e7db2dcc703c0e500b653ca82273b7bfad8045d85a470'),\n",
              " 'epochNumber': 99720383,\n",
              " 'blockNumber': 127806493,\n",
              " 'gasLimit': 30000000,\n",
              " 'gasUsed': 0,\n",
              " 'timestamp': 1668507784,\n",
              " 'difficulty': 58688104,\n",
              " 'powQuality': HexBytes('0x12b15fcb'),\n",
              " 'refereeHashes': [HexBytes('0xb18df88debc7ab3fb8a2dc105e927d9f2bc6575b5a38c5e84b5c84c7c41b5525')],\n",
              " 'adaptive': False,\n",
              " 'nonce': HexBytes('0x2caff98a7d0bf272'),\n",
              " 'size': 0,\n",
              " 'custom': [HexBytes('0x02')],\n",
              " 'posReference': HexBytes('0x11f970d63eb9eaf581315b67f2258c0c59ad13572be29a2187c900ac576d3003'),\n",
              " 'transactions': []})"
            ]
          },
          "execution_count": 9,
          "metadata": {},
          "output_type": "execute_result"
        }
      ],
      "source": [
        "# get_block_by_epoch_number 也支持通过 epoch tag 查询\n",
        "w3.cfx.get_block_by_epoch_number(\"latest_state\")"
      ]
    },
    {
      "cell_type": "code",
      "execution_count": 10,
      "metadata": {},
      "outputs": [
        {
          "data": {
            "text/plain": [
              "AttributeDict({'hash': HexBytes('0xf0ac5f8d757a7415876e322a245d5eff76349b656b3eadb10d5e09a4a3f7d59d'),\n",
              " 'parentHash': HexBytes('0xeaf2f6227c068ae27cb847657af7eb7e3cfd6696f5a795d2f38159074d20a8c9'),\n",
              " 'height': 87083316,\n",
              " 'miner': 'cfxtest:aaskvgxcfej371g4ecepx9an78ngrke5ay9f8jtbgg',\n",
              " 'deferredStateRoot': HexBytes('0xa26347f02f312db0fba655c29b9fa853e8e6242449a67added74c62679122f62'),\n",
              " 'deferredReceiptsRoot': HexBytes('0x09f8709ea9f344a810811a373b30861568f5686e649d6177fd92ea2db7477508'),\n",
              " 'deferredLogsBloomHash': HexBytes('0xd397b3b043d87fcd6fad1291ff0bfd16401c274896d8c63a923727f077b8e0b5'),\n",
              " 'blame': 0,\n",
              " 'transactionsRoot': HexBytes('0xdc62bb0e7115a9727688811f4e090efdfd203a516953ff7829e21dea29e1f166'),\n",
              " 'epochNumber': 87083316,\n",
              " 'blockNumber': 110979562,\n",
              " 'gasLimit': 30000000,\n",
              " 'gasUsed': 35480,\n",
              " 'timestamp': 1660093852,\n",
              " 'difficulty': 54757256,\n",
              " 'powQuality': HexBytes('0x0365f39d'),\n",
              " 'refereeHashes': [],\n",
              " 'adaptive': False,\n",
              " 'nonce': HexBytes('0xe72421314ac723e6'),\n",
              " 'size': 113,\n",
              " 'custom': [HexBytes('0x01')],\n",
              " 'posReference': HexBytes('0xe7c39fb3312519d78e5606ef4d9040b558b852e7af439a8fcad1632de776cc06'),\n",
              " 'transactions': [HexBytes('0x10a721e2654523a7ff682c1c8d3f868a9fdf78a3be1858bbe1f06147128d6d94')]})"
            ]
          },
          "execution_count": 10,
          "metadata": {},
          "output_type": "execute_result"
        }
      ],
      "source": [
        "# 通过 block number 查询也是可行的\n",
        "w3.cfx.get_block_by_block_number(110979562)"
      ]
    },
    {
      "cell_type": "markdown",
      "metadata": {},
      "source": [
        "### 其他 RPC\n",
        "\n",
        "除此之外， `conflux-web3`支持 cfx 命名空间下的所有 rpc 方法。[JSON-RPC-methods](https://developer.confluxnetwork.org/conflux-doc/docs/json_rpc#json-rpc-methods)中提供了更多信息。\n",
        "\n",
        "这里提供了部分例子："
      ]
    },
    {
      "cell_type": "code",
      "execution_count": 11,
      "metadata": {},
      "outputs": [
        {
          "data": {
            "text/plain": [
              "1000000000 Drip"
            ]
          },
          "execution_count": 11,
          "metadata": {},
          "output_type": "execute_result"
        }
      ],
      "source": [
        "w3.cfx.gas_price"
      ]
    },
    {
      "cell_type": "code",
      "execution_count": 12,
      "metadata": {},
      "outputs": [
        {
          "data": {
            "text/plain": [
              "5964"
            ]
          },
          "execution_count": 12,
          "metadata": {},
          "output_type": "execute_result"
        }
      ],
      "source": [
        "len(w3.cfx.get_code(\"cfxtest:acejjfa80vj06j2jgtz9pngkv423fhkuxj786kjr61\"))"
      ]
    }
  ],
  "metadata": {
    "kernelspec": {
      "display_name": "Python 3.9.13 ('sdk')",
      "language": "python",
      "name": "python3"
    },
    "language_info": {
      "codemirror_mode": {
        "name": "ipython",
        "version": 3
      },
      "file_extension": ".py",
      "mimetype": "text/x-python",
      "name": "python",
      "nbconvert_exporter": "python",
      "pygments_lexer": "ipython3",
      "version": "3.9.13"
    },
    "orig_nbformat": 4,
    "vscode": {
      "interpreter": {
        "hash": "a3057bbf184bca29acc6a0538c16f383babaf4f383bee8205e8e826137244d0e"
      }
    }
  },
  "nbformat": 4,
  "nbformat_minor": 2
}
