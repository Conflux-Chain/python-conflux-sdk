{
  "cells": [
    {
      "cell_type": "markdown",
      "metadata": {
      },
      "source": [
        "# 通过 RPC 查询数据\n",
        "\n",
        "通过单击顶部栏上的`🚀` -&gt; `Binder`在线运行此示例！"
      ]
    },
    {
      "cell_type": "markdown",
      "metadata": {
      },
      "source": [
        "## 准备"
      ]
    },
    {
      "cell_type": "code",
      "execution_count": 1,
      "metadata": {
      },
      "outputs": [

      ],
      "source": [
        "# preparation: import and init w3 instance\n",
        "from conflux_web3 import Web3\n",
        "\n",
        "w3 = Web3(Web3.HTTPProvider(\"https://test.confluxrpc.com\"))\n",
        "\n",
        "# prepare constants\n",
        "transaction_hash = \"0x10a721e2654523a7ff682c1c8d3f868a9fdf78a3be1858bbe1f06147128d6d94\"\n",
        "epoch = 98943500"
      ]
    },
    {
      "cell_type": "markdown",
      "metadata": {
      },
      "source": [
        "## 通过 RPC 查询\n",
        "\n",
        "我们可以使用 SDK 调用 RPC 调用来查询区块链状态交易数据、区块数据等。完整的 RPC 文档可以在[这里](https://developer.confluxnetwork.org/conflux-doc/docs/json_rpc/#json-rpc-methods)找到。"
      ]
    },
    {
      "cell_type": "markdown",
      "metadata": {
      },
      "source": [
        "### 查询区块链状态"
      ]
    },
    {
      "cell_type": "code",
      "execution_count": 2,
      "metadata": {
      },
      "outputs": [
        {
          "data": {
            "text/plain": [
              "AttributeDict({'bestHash': HexBytes('0x7402986f3f8116515e4cfff0df2941d105272158825c55f48cf8c6b1bcf55d0b'),\n",
              " 'chainId': 1,\n",
              " 'ethereumSpaceChainId': 71,\n",
              " 'networkId': 1,\n",
              " 'epochNumber': 98947195,\n",
              " 'blockNumber': 126750704,\n",
              " 'pendingTxNumber': 0,\n",
              " 'latestCheckpoint': 98860000,\n",
              " 'latestConfirmed': 98947131,\n",
              " 'latestState': 98947191,\n",
              " 'latestFinalized': 98946660})"
            ]
          },
          "execution_count": 2,
          "metadata": {
          },
          "output_type": "execute_result"
        }
      ],
      "source": [
        "# get_status provides an overview of blockchain status\n",
        "w3.cfx.get_status()"
      ]
    },
    {
      "cell_type": "markdown",
      "metadata": {
      },
      "source": [
        "几个 RPC 方法可以接受一个**epoch number 参数**。纪元数参数可以是：\n",
        "\n",
        "- 一个整数\n",
        "- 或者一个时代标签`latest_mined` , `latest_state` , `latest_confirmed`或者`latest_finalized`\n",
        "\n",
        "Conflux 中的`epoch number`的概念有点类似于其他区块链中的`block number`的概念，但一个 epoch 包含一个或多个区块。有关详细信息，请参阅 https://developer.confluxnetwork.org/conflux-doc/docs/json_rpc#the-default-epochnumber-parameter。"
      ]
    },
    {
      "cell_type": "code",
      "execution_count": 3,
      "metadata": {
      },
      "outputs": [
        {
          "name": "stdout",
          "output_type": "stream",
          "text": [
            "latest_mined epoch number: 98947195\n",
            "latest_state epoch numebr: 98947191\n"
          ]
        }
      ],
      "source": [
        "# latest_mined epoch number\n",
        "print(f\"latest_mined epoch number: {w3.cfx.epoch_number}\")\n",
        "# get epoch number by tag\n",
        "print(f'latest_state epoch numebr: {w3.cfx.epoch_number_by_tag(\"latest_state\")}')"
      ]
    },
    {
      "cell_type": "markdown",
      "metadata": {
      },
      "source": [
        "### 查询交易"
      ]
    },
    {
      "cell_type": "code",
      "execution_count": 4,
      "metadata": {
      },
      "outputs": [
        {
          "data": {
            "text/plain": [
              "AttributeDict({'hash': HexBytes('0x10a721e2654523a7ff682c1c8d3f868a9fdf78a3be1858bbe1f06147128d6d94'),\n",
              " 'nonce': 2,\n",
              " 'blockHash': HexBytes('0xf0ac5f8d757a7415876e322a245d5eff76349b656b3eadb10d5e09a4a3f7d59d'),\n",
              " 'transactionIndex': 0,\n",
              " 'from': 'cfxtest:aan2vyszrgz3sr3tug73ywb8k128y5wa7yhpjm1hn1',\n",
              " 'to': 'cfxtest:acejjfa80vj06j2jgtz9pngkv423fhkuxj786kjr61',\n",
              " 'value': 0 Drip,\n",
              " 'gasPrice': 1000000000 Drip,\n",
              " 'gas': 41633,\n",
              " 'contractCreated': None,\n",
              " 'data': HexBytes('0x5f3cc9f7'),\n",
              " 'storageLimit': 0,\n",
              " 'epochHeight': 87083312,\n",
              " 'chainId': 1,\n",
              " 'status': 0,\n",
              " 'v': 1,\n",
              " 'r': HexBytes('0x17b30481d63a49223092215a2aa503938519df5cac0d20cbff7ebf50569776cd'),\n",
              " 's': HexBytes('0x5fc96a1e383879cf66c09d106b2df4907c674a263c9a7bba602078c90b0038b1')})"
            ]
          },
          "execution_count": 4,
          "metadata": {
          },
          "output_type": "execute_result"
        }
      ],
      "source": [
        "# get transaction data by hash\n",
        "# this RPC is usable after transaction is sent\n",
        "w3.cfx.get_transaction_by_hash(transaction_hash)"
      ]
    },
    {
      "cell_type": "code",
      "execution_count": 5,
      "metadata": {
      },
      "outputs": [
        {
          "data": {
            "text/plain": [
              "AttributeDict({'transactionHash': HexBytes('0x10a721e2654523a7ff682c1c8d3f868a9fdf78a3be1858bbe1f06147128d6d94'),\n",
              " 'index': 0,\n",
              " 'blockHash': HexBytes('0xf0ac5f8d757a7415876e322a245d5eff76349b656b3eadb10d5e09a4a3f7d59d'),\n",
              " 'epochNumber': 87083316,\n",
              " 'from': 'cfxtest:aan2vyszrgz3sr3tug73ywb8k128y5wa7yhpjm1hn1',\n",
              " 'to': 'cfxtest:acejjfa80vj06j2jgtz9pngkv423fhkuxj786kjr61',\n",
              " 'gasUsed': 35480,\n",
              " 'gasFee': 35480000000000 Drip,\n",
              " 'contractCreated': None,\n",
              " 'logs': [],\n",
              " 'logsBloom': HexBytes('0x00000000000000000000000000000000000000000000000000000000000000000000000000000000000000000000000000000000000000000000000000000000000000000000000000000000000000000000000000000000000000000000000000000000000000000000000000000000000000000000000000000000000000000000000000000000000000000000000000000000000000000000000000000000000000000000000000000000000000000000000000000000000000000000000000000000000000000000000000000000000000000000000000000000000000000000000000000000000000000000000000000000000000000000000000000000'),\n",
              " 'stateRoot': HexBytes('0xdbfbe3f9b08aa5fb04ca5218ebc245b3941cce9d30409ab854456f3070b454f6'),\n",
              " 'outcomeStatus': 0,\n",
              " 'txExecErrorMsg': None,\n",
              " 'gasCoveredBySponsor': True,\n",
              " 'storageCoveredBySponsor': True,\n",
              " 'storageCollateralized': 0,\n",
              " 'storageReleased': []})"
            ]
          },
          "execution_count": 5,
          "metadata": {
          },
          "output_type": "execute_result"
        }
      ],
      "source": [
        "# get transaction receipt by hash\n",
        "# the transaction receipt is available after it is executed\n",
        "w3.cfx.get_transaction_receipt(transaction_hash)"
      ]
    },
    {
      "cell_type": "markdown",
      "metadata": {
      },
      "source": [
        "### 查询块\n",
        "\n",
        "在 Conflux 中，每个 epoch 包含 1 个或多个块，其中一个块称为`pivot`块。枢轴块确定哪些块处于特定时期。"
      ]
    },
    {
      "cell_type": "code",
      "execution_count": 6,
      "metadata": {
      },
      "outputs": [
        {
          "name": "stdout",
          "output_type": "stream",
          "text": [
            "blocks in epoch 98943500:\n",
            "[HexBytes('0xae622377e139608a9202504df4bf20570c4741370d36f668952ae91c57c5da69'), HexBytes('0x104a3549108c7c83a36c65d188e842f6deb9a770d3ca749a222fce628846c04b')]\n",
            "pivot block hash of epoch 98943500: 0x104a3549108c7c83a36c65d188e842f6deb9a770d3ca749a222fce628846c04b\n"
          ]
        }
      ],
      "source": [
        "# query blocks in specific epoch\n",
        "block_hashes = w3.cfx.get_blocks_by_epoch(epoch)\n",
        "print(f\"blocks in epoch {epoch}:\\n{block_hashes}\")\n",
        "# the last element of block_hashes is the pivot block\n",
        "print(f\"pivot block hash of epoch {epoch}: {block_hashes[-1].hex()}\")"
      ]
    },
    {
      "cell_type": "code",
      "execution_count": 7,
      "metadata": {
      },
      "outputs": [

      ],
      "source": [
        "# if the block is a pivot block, we can get it by using epoch number\n",
        "assert w3.cfx.get_block_by_epoch_number(epoch) == w3.cfx.get_block_by_hash(block_hashes[-1])"
      ]
    },
    {
      "cell_type": "code",
      "execution_count": 8,
      "metadata": {
      },
      "outputs": [
        {
          "data": {
            "text/plain": [
              "AttributeDict({'hash': HexBytes('0x23e4589f00f86dc0eef1f268b8db567ad5d19a164597648c828fe266a4844081'),\n",
              " 'parentHash': HexBytes('0xd3ebea17481278ba7f705f1a53d7a09ad45d907f34a23fad9a313c02213d515d'),\n",
              " 'height': 98947193,\n",
              " 'miner': 'cfxtest:aaskvgxcfej371g4ecepx9an78ngrke5ay9f8jtbgg',\n",
              " 'deferredStateRoot': HexBytes('0xd97426e7ab18195c40fec710cdd649bd262de6950a081d3e6ad7d8096bd63bc7'),\n",
              " 'deferredReceiptsRoot': HexBytes('0x12af19d53c378426ebe08ad33e48caf3efdaaade0994770c161c0637e65a6566'),\n",
              " 'deferredLogsBloomHash': HexBytes('0xd397b3b043d87fcd6fad1291ff0bfd16401c274896d8c63a923727f077b8e0b5'),\n",
              " 'blame': 0,\n",
              " 'transactionsRoot': HexBytes('0xc5d2460186f7233c927e7db2dcc703c0e500b653ca82273b7bfad8045d85a470'),\n",
              " 'epochNumber': 98947193,\n",
              " 'blockNumber': 126750701,\n",
              " 'gasLimit': 30000000,\n",
              " 'gasUsed': 0,\n",
              " 'timestamp': 1667980575,\n",
              " 'difficulty': 56382505,\n",
              " 'powQuality': HexBytes('0x084c7fe8'),\n",
              " 'refereeHashes': [],\n",
              " 'adaptive': False,\n",
              " 'nonce': HexBytes('0x2f63f70ee09c76d7'),\n",
              " 'size': 0,\n",
              " 'custom': [HexBytes('0x02')],\n",
              " 'posReference': HexBytes('0x347c71b80e0d554046c03ef33d4409c90f2fb94ce749ce1e6813adde544d99c8'),\n",
              " 'transactions': []})"
            ]
          },
          "execution_count": 8,
          "metadata": {
          },
          "output_type": "execute_result"
        }
      ],
      "source": [
        "# get_block_by_epoch_number also accepts an epoch number tag\n",
        "w3.cfx.get_block_by_epoch_number(\"latest_state\")"
      ]
    },
    {
      "cell_type": "code",
      "execution_count": 9,
      "metadata": {
      },
      "outputs": [
        {
          "data": {
            "text/plain": [
              "AttributeDict({'hash': HexBytes('0xf0ac5f8d757a7415876e322a245d5eff76349b656b3eadb10d5e09a4a3f7d59d'),\n",
              " 'parentHash': HexBytes('0xeaf2f6227c068ae27cb847657af7eb7e3cfd6696f5a795d2f38159074d20a8c9'),\n",
              " 'height': 87083316,\n",
              " 'miner': 'cfxtest:aaskvgxcfej371g4ecepx9an78ngrke5ay9f8jtbgg',\n",
              " 'deferredStateRoot': HexBytes('0xa26347f02f312db0fba655c29b9fa853e8e6242449a67added74c62679122f62'),\n",
              " 'deferredReceiptsRoot': HexBytes('0x09f8709ea9f344a810811a373b30861568f5686e649d6177fd92ea2db7477508'),\n",
              " 'deferredLogsBloomHash': HexBytes('0xd397b3b043d87fcd6fad1291ff0bfd16401c274896d8c63a923727f077b8e0b5'),\n",
              " 'blame': 0,\n",
              " 'transactionsRoot': HexBytes('0xdc62bb0e7115a9727688811f4e090efdfd203a516953ff7829e21dea29e1f166'),\n",
              " 'epochNumber': 87083316,\n",
              " 'blockNumber': 110979562,\n",
              " 'gasLimit': 30000000,\n",
              " 'gasUsed': 35480,\n",
              " 'timestamp': 1660093852,\n",
              " 'difficulty': 54757256,\n",
              " 'powQuality': HexBytes('0x0365f39d'),\n",
              " 'refereeHashes': [],\n",
              " 'adaptive': False,\n",
              " 'nonce': HexBytes('0xe72421314ac723e6'),\n",
              " 'size': 113,\n",
              " 'custom': [HexBytes('0x01')],\n",
              " 'posReference': HexBytes('0xe7c39fb3312519d78e5606ef4d9040b558b852e7af439a8fcad1632de776cc06'),\n",
              " 'transactions': [HexBytes('0x10a721e2654523a7ff682c1c8d3f868a9fdf78a3be1858bbe1f06147128d6d94')]})"
            ]
          },
          "execution_count": 9,
          "metadata": {
          },
          "output_type": "execute_result"
        }
      ],
      "source": [
        "# get a block by block number is also viable \n",
        "w3.cfx.get_block_by_block_number(110979562)"
      ]
    },
    {
      "cell_type": "markdown",
      "metadata": {
      },
      "source": [
        "### 其他 RPC\n",
        "\n",
        "除此之外， `conflux-web3`支持 cfx 命名空间下的所有 rpc 方法。您可以访问 https://developer.confluxnetwork.org/conflux-doc/docs/json_rpc#json-rpc-methods 了解更多信息。\n",
        "\n",
        "这里有些例子："
      ]
    },
    {
      "cell_type": "code",
      "execution_count": 10,
      "metadata": {
      },
      "outputs": [
        {
          "data": {
            "text/plain": [
              "1000000000 Drip"
            ]
          },
          "execution_count": 10,
          "metadata": {
          },
          "output_type": "execute_result"
        }
      ],
      "source": [
        "w3.cfx.gas_price"
      ]
    },
    {
      "cell_type": "code",
      "execution_count": null,
      "metadata": {
      },
      "outputs": [

      ],
      "source": [
        "w3.cfx.get_code(\"cfxtest:acejjfa80vj06j2jgtz9pngkv423fhkuxj786kjr61\")"
      ]
    }
  ],
  "metadata": {
    "kernelspec": {
      "display_name": "Python 3.9.13 ('sdk')",
      "language": "python",
      "name": "python3"
    },
    "language_info": {
      "codemirror_mode": {
        "name": "ipython",
        "version": 3
      },
      "file_extension": ".py",
      "mimetype": "text/x-python",
      "name": "python",
      "nbconvert_exporter": "python",
      "pygments_lexer": "ipython3",
      "version": "3.9.13"
    },
    "orig_nbformat": 4,
    "vscode": {
      "interpreter": {
        "hash": "a3057bbf184bca29acc6a0538c16f383babaf4f383bee8205e8e826137244d0e"
      }
    }
  },
  "nbformat": 4,
  "nbformat_minor": 2
}
