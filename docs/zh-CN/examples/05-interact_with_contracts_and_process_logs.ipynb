{
  "cells": [
    {
      "cell_type": "markdown",
      "metadata": {},
      "source": [
        "# 与智能合约交互，处理日志\n",
        "\n",
        "单击顶部栏上的`🚀` -&gt; `Binder`在线运行此示例！"
      ]
    },
    {
      "cell_type": "markdown",
      "metadata": {},
      "source": [
        "## 准备"
      ]
    },
    {
      "cell_type": "code",
      "execution_count": 2,
      "metadata": {},
      "outputs": [
        {
          "data": {
            "text/plain": [
              "1000 CFX"
            ]
          },
          "execution_count": 2,
          "metadata": {},
          "output_type": "execute_result"
        }
      ],
      "source": [
        "import pprint\n",
        "from conflux_web3 import Web3\n",
        "\n",
        "w3 = Web3(Web3.HTTPProvider(\"https://test.confluxrpc.com\"))\n",
        "account = w3.account.create()\n",
        "w3.cfx.default_account = account\n",
        "\n",
        "faucet = w3.cfx.contract(name=\"Faucet\")\n",
        "faucet.functions.claimCfx().transact().executed()\n",
        "w3.cfx.get_balance(account.address).to(\"CFX\")"
      ]
    },
    {
      "cell_type": "markdown",
      "metadata": {},
      "source": [
        "## 与合约交互\n",
        "\n",
        "在[准备](#preparation)部分，我们已经展示了如何与合约交互。我们可以通过`w3.cfx.contract`初始化合约实例，并使用`name`参数创建一些常用的合约实例。但我们常常需要自行编写合约，本部分将展示如何编译、部署合约，并与已部署的合约进行交互。"
      ]
    },
    {
      "cell_type": "markdown",
      "metadata": {},
      "source": [
        "### 编译和部署合约\n",
        "\n",
        "合约是在区块链上运行的程序。如果我们想与自己编写的程序进行交互，我们需要首先将合约**部署**到区块链上。\n",
        "\n",
        "这是一个简单的智能合约：\n",
        "\n",
        "```solidity\n",
        "// SPDX-License-Identifier: MIT\n",
        "// modified from https://solidity-by-example.org/first-app/\n",
        "pragma solidity ^0.8.13;\n",
        "\n",
        "contract Counter {\n",
        "    uint public count;\n",
        "\n",
        "    event Change(address indexed sender, uint new_value);\n",
        "\n",
        "    constructor(uint init_value) {\n",
        "        count = init_value;\n",
        "    }\n",
        "\n",
        "    // Function to get the current count\n",
        "    function get() public view returns (uint) {\n",
        "        return count;\n",
        "    }\n",
        "\n",
        "    // Function to increment count by 1\n",
        "    function inc() public {\n",
        "        count += 1;\n",
        "        emit Change(msg.sender, count);\n",
        "    }\n",
        "}\n",
        "```\n",
        "\n",
        "编译部署此合约后，你可以：\n",
        "\n",
        "- 从接口`get`读取`count`的值\n",
        "- 通过调用`inc`添加变量`count`\n",
        "\n",
        "另外，合约在`inc`执行后会发出`Change`事件，我们可以通过分析日志知道链上发生了什么。\n",
        "\n",
        "接下来我们将编译上述合约。如果你在本地环境中运行代码，则可能需要运行`pip install py-solc-x`来安装相关依赖。"
      ]
    },
    {
      "cell_type": "code",
      "execution_count": 3,
      "metadata": {},
      "outputs": [],
      "source": [
        "# py-solc-x is already installed in the test environment\n",
        "from solcx import install_solc, compile_source\n",
        "source_code = r\"\"\"\n",
        "// SPDX-License-Identifier: MIT\n",
        "// modified from https://solidity-by-example.org/first-app/\n",
        "pragma solidity ^0.8.13;\n",
        "\n",
        "contract Counter {\n",
        "    uint public count;\n",
        "\n",
        "    event Change(address indexed sender, uint new_value);\n",
        "\n",
        "    constructor(uint init_value) {\n",
        "        count = init_value;\n",
        "    }\n",
        "\n",
        "    // Function to get the current count\n",
        "    function get() public view returns (uint) {\n",
        "        return count;\n",
        "    }\n",
        "\n",
        "    // Function to increment count by 1\n",
        "    function inc() public {\n",
        "        count += 1;\n",
        "        emit Change(msg.sender, count);\n",
        "    }\n",
        "}\n",
        "\"\"\"\n",
        "metadata = compile_source(\n",
        "    source_code,\n",
        "    output_values=['abi', 'bin'],\n",
        "    solc_version=install_solc(version=\"0.8.13\")\n",
        ").popitem()[1]\n",
        "# \"abi\" defines the interface, \"bin\" is the contract bytecode\n",
        "assert \"abi\" in metadata and \"bin\" in metadata"
      ]
    },
    {
      "cell_type": "code",
      "execution_count": 4,
      "metadata": {},
      "outputs": [
        {
          "name": "stdout",
          "output_type": "stream",
          "text": [
            "contract deployed: cfxtest:acc0mmk9t5sukfybrg8sy2sbw49tar6u8jf4r1u7tg\n"
          ]
        }
      ],
      "source": [
        "# 根据metadata的abi与bytecode字段初始化contract对象\n",
        "factory = w3.cfx.contract(abi=metadata[\"abi\"], bytecode=metadata[\"bin\"])\n",
        "\n",
        "# 部署合约\n",
        "tx_receipt = factory.constructor(init_value=0).transact().executed()\n",
        "contract_address = tx_receipt[\"contractCreated\"]\n",
        "assert contract_address is not None\n",
        "print(f\"contract deployed: {contract_address}\")\n",
        "\n",
        "# 使用address参数初始化合约，这样我们可以调用该对象的链上接口\n",
        "deployed_contract = w3.cfx.contract(address=contract_address, abi=metadata[\"abi\"])"
      ]
    },
    {
      "cell_type": "markdown",
      "metadata": {},
      "source": [
        "### 与已部署的合约交互"
      ]
    },
    {
      "cell_type": "code",
      "execution_count": 5,
      "metadata": {},
      "outputs": [
        {
          "name": "stdout",
          "output_type": "stream",
          "text": [
            "counter added to 1\n"
          ]
        }
      ],
      "source": [
        "tx_hash = deployed_contract.functions.inc().transact()\n",
        "inc_receipt = w3.cfx.wait_for_transaction_receipt(tx_hash)\n",
        "\n",
        "# \"call\" 代表着模拟执行但不真正发送交易\n",
        "# 下面两种方法都能调用\"call\"\n",
        "current_counter = deployed_contract.functions.get().call()\n",
        "current_counter_ = deployed_contract.caller().get()\n",
        "assert current_counter == current_counter_ == 1\n",
        "print(\"counter added to 1\")"
      ]
    },
    {
      "cell_type": "markdown",
      "metadata": {},
      "source": [
        "## 处理日志\n",
        "\n",
        "我们可以通过查看交易日志来了解交易执行中发生了什么。但原始的日志以十六进制编码，可读性较差。"
      ]
    },
    {
      "cell_type": "code",
      "execution_count": 6,
      "metadata": {},
      "outputs": [
        {
          "name": "stdout",
          "output_type": "stream",
          "text": [
            "raw log: \n",
            "{'address': 'cfxtest:acc0mmk9t5sukfybrg8sy2sbw49tar6u8jf4r1u7tg',\n",
            " 'blockHash': HexBytes('0x5d7f3bc654370883359835aa22be509a7a36a8215d011e21bf0c2ca4592c6665'),\n",
            " 'data': HexBytes('0x0000000000000000000000000000000000000000000000000000000000000001'),\n",
            " 'epochNumber': 99721993,\n",
            " 'logIndex': 0,\n",
            " 'topics': [HexBytes('0x05b5d46649ab2015d3a08705cbaa391e094d9594c393ce89d3afffe960744da1'),\n",
            "            HexBytes('0x0000000000000000000000001f4bffef33cdf6e6b854f6aaf2c4498f18027bb1')],\n",
            " 'transactionHash': HexBytes('0x1d703cd4602bb02603b8154ca43ec4f4ff8107e757afd11b4b8d118db03cc222'),\n",
            " 'transactionIndex': 0,\n",
            " 'transactionLogIndex': 0}\n"
          ]
        }
      ],
      "source": [
        "# get_logs parameter definitions: https://developer.confluxnetwork.org/conflux-doc/docs/json_rpc#cfx_getlogs\n",
        "fromEpoch = inc_receipt[\"epochNumber\"]\n",
        "# use get_logs to get raw logs\n",
        "logs = w3.cfx.get_logs(fromEpoch=fromEpoch, address=contract_address)\n",
        "print(\"raw log: \")\n",
        "pprint.pprint(dict(logs[0]))\n"
      ]
    },
    {
      "cell_type": "markdown",
      "metadata": {},
      "source": [
        "在以下部分中，我们将介绍几种处理和过滤日志的方法。\n",
        "\n",
        "我们可以使用`contract.event`来处理日志。处理后，日志的`args`字段包含了我们需要的信息。"
      ]
    },
    {
      "cell_type": "code",
      "execution_count": 7,
      "metadata": {},
      "outputs": [
        {
          "name": "stdout",
          "output_type": "stream",
          "text": [
            "{'address': 'cfxtest:acc0mmk9t5sukfybrg8sy2sbw49tar6u8jf4r1u7tg',\n",
            " 'args': AttributeDict({'sender': 'CFXTEST:TYPE.USER:AATY199TGTG9R3Z2MX5MZ60EKGHVUAX50EC9SFY3HB', 'new_value': 1}),\n",
            " 'blockHash': HexBytes('0x5d7f3bc654370883359835aa22be509a7a36a8215d011e21bf0c2ca4592c6665'),\n",
            " 'epochNumber': 99721993,\n",
            " 'event': 'Change',\n",
            " 'logIndex': None,\n",
            " 'transactionHash': HexBytes('0x1d703cd4602bb02603b8154ca43ec4f4ff8107e757afd11b4b8d118db03cc222'),\n",
            " 'transactionIndex': 0,\n",
            " 'transactionLogIndex': 0}\n"
          ]
        }
      ],
      "source": [
        "processed_logs = deployed_contract.events.Change.process_receipt(inc_receipt)\n",
        "processed_log = processed_logs[0]\n",
        "assert processed_log[\"args\"][\"sender\"] == w3.cfx.default_account\n",
        "assert processed_log[\"args\"][\"new_value\"] == 1\n",
        "\n",
        "# 从交易receipt拿到的日志中, 字段 \"logIndex\" 为 None\n",
        "pprint.pprint(dict(processed_log))"
      ]
    },
    {
      "cell_type": "markdown",
      "metadata": {},
      "source": [
        "此外，我们可以使用`contract.events`对合约topics进行编码以用于过滤日志"
      ]
    },
    {
      "cell_type": "code",
      "execution_count": 8,
      "metadata": {},
      "outputs": [
        {
          "name": "stdout",
          "output_type": "stream",
          "text": [
            "log filtered by topics:\n",
            "{'address': 'cfxtest:acc0mmk9t5sukfybrg8sy2sbw49tar6u8jf4r1u7tg',\n",
            " 'blockHash': HexBytes('0x5d7f3bc654370883359835aa22be509a7a36a8215d011e21bf0c2ca4592c6665'),\n",
            " 'data': HexBytes('0x0000000000000000000000000000000000000000000000000000000000000001'),\n",
            " 'epochNumber': 99721993,\n",
            " 'logIndex': 0,\n",
            " 'topics': [HexBytes('0x05b5d46649ab2015d3a08705cbaa391e094d9594c393ce89d3afffe960744da1'),\n",
            "            HexBytes('0x0000000000000000000000001f4bffef33cdf6e6b854f6aaf2c4498f18027bb1')],\n",
            " 'transactionHash': HexBytes('0x1d703cd4602bb02603b8154ca43ec4f4ff8107e757afd11b4b8d118db03cc222'),\n",
            " 'transactionIndex': 0,\n",
            " 'transactionLogIndex': 0}\n"
          ]
        }
      ],
      "source": [
        "# 编码topics以用于get_logs\n",
        "filter_topics = deployed_contract.events.Change.get_filter_topics(\n",
        "    sender=w3.cfx.default_account\n",
        ")\n",
        "new_logs = w3.cfx.get_logs(fromEpoch=fromEpoch, topics=filter_topics)\n",
        "print(\"log filtered by topics:\")\n",
        "pprint.pprint(dict(new_logs[0]))"
      ]
    },
    {
      "cell_type": "markdown",
      "metadata": {},
      "source": [
        "或者我们可以使用`contract.events`中的`get_logs`接口"
      ]
    },
    {
      "cell_type": "code",
      "execution_count": 9,
      "metadata": {},
      "outputs": [
        {
          "name": "stdout",
          "output_type": "stream",
          "text": [
            "processed log from contract event get_logs\n",
            "{'address': 'cfxtest:acc0mmk9t5sukfybrg8sy2sbw49tar6u8jf4r1u7tg',\n",
            " 'args': AttributeDict({'sender': 'CFXTEST:TYPE.USER:AATY199TGTG9R3Z2MX5MZ60EKGHVUAX50EC9SFY3HB', 'new_value': 1}),\n",
            " 'blockHash': HexBytes('0x5d7f3bc654370883359835aa22be509a7a36a8215d011e21bf0c2ca4592c6665'),\n",
            " 'epochNumber': 99721993,\n",
            " 'event': 'Change',\n",
            " 'logIndex': 0,\n",
            " 'transactionHash': HexBytes('0x1d703cd4602bb02603b8154ca43ec4f4ff8107e757afd11b4b8d118db03cc222'),\n",
            " 'transactionIndex': 0,\n",
            " 'transactionLogIndex': 0}\n"
          ]
        }
      ],
      "source": [
        "# event get_logs 接口会直接返回已处理的日志\n",
        "new_processed_logs = deployed_contract.events.Change.get_logs(\n",
        "    argument_filters={\n",
        "        \"sender\": w3.cfx.default_account\n",
        "    },\n",
        "    fromEpoch=fromEpoch\n",
        ")\n",
        "print(\"processed log from contract event get_logs\")\n",
        "pprint.pprint(dict(new_processed_logs[0]))"
      ]
    },
    {
      "cell_type": "markdown",
      "metadata": {},
      "source": [
        "`conflux_web3`的 api 与`web3.py`的 api 一致。您还可以尝试`web3.py`文档中的示例。\n",
        "\n",
        "- https://web3py.readthedocs.io/en/stable/contracts.html\n",
        "- https://web3py.readthedocs.io/en/stable/examples.html#working-with-contracts\n",
        "- https://web3py.readthedocs.io/en/stable/examples.html#working-with-an-erc20-token-contract"
      ]
    }
  ],
  "metadata": {
    "kernelspec": {
      "display_name": "Python 3.9.13 ('sdk')",
      "language": "python",
      "name": "python3"
    },
    "language_info": {
      "codemirror_mode": {
        "name": "ipython",
        "version": 3
      },
      "file_extension": ".py",
      "mimetype": "text/x-python",
      "name": "python",
      "nbconvert_exporter": "python",
      "pygments_lexer": "ipython3",
      "version": "3.9.13"
    },
    "orig_nbformat": 4,
    "vscode": {
      "interpreter": {
        "hash": "a3057bbf184bca29acc6a0538c16f383babaf4f383bee8205e8e826137244d0e"
      }
    }
  },
  "nbformat": 4,
  "nbformat_minor": 2
}
