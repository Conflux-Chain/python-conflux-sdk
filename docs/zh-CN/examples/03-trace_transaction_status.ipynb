{
  "cells": [
    {
      "cell_type": "markdown",
      "metadata": {},
      "source": [
        "# 跟踪交易状态\n",
        "\n",
        "通过单击顶部栏上的`🚀` -&gt; `Binder`在线运行此示例！"
      ]
    },
    {
      "cell_type": "markdown",
      "metadata": {},
      "source": [
        "## 准备"
      ]
    },
    {
      "cell_type": "code",
      "execution_count": 1,
      "metadata": {},
      "outputs": [],
      "source": [
        "# 准备阶段：初始化 web3 对象并提供交易哈希对象 tx_hash\n",
        "from conflux_web3 import Web3\n",
        "\n",
        "w3 = Web3(Web3.HTTPProvider(\"https://test.confluxrpc.com\"))\n",
        "acct = w3.account.create()\n",
        "w3.cfx.default_account = acct\n",
        "faucet = w3.cfx.contract(name=\"Faucet\")\n",
        "\n",
        "# get a tx_hash\n",
        "tx_hash = faucet.functions.claimCfx().transact()"
      ]
    },
    {
      "cell_type": "markdown",
      "metadata": {},
      "source": [
        "## Conflux 中的交易状态\n",
        "\n",
        "在 Conflux 中，交易在发送后会经历几个阶段：\n",
        "\n",
        "1. `pending` ：交易已发送，但不包含在任何区块中。\n",
        "2. `mined` ：交易已经包含在一个区块中，但可能尚未被执行。\n",
        "3. `executed` ：交易被执行。\n",
        "4. `confirmed` ：交易在 PoW 链确认规则下被确认，这意味着除非 PoW 链受到攻击，否则它极不可能被逆转。\n",
        "5. `finalized` ：交易已被 PoS 链**最终确认**，这意味着该交易不可能被逆转。但需要 5~10 分钟交易才会被最终确认。"
      ]
    },
    {
      "cell_type": "markdown",
      "metadata": {},
      "source": [
        "## 跟踪交易的状态\n",
        "\n",
        "我们可以使用`w3.cfx.wait_till_transaction_mined` 、 `w3.cfx.wait_till_transaction_executed` 、 `w3.cfx.wait_till_transaction_confirmed` 、 `w3.cfx.wait_till_transaction_finalized`等待交易达到特定状态。"
      ]
    },
    {
      "cell_type": "code",
      "execution_count": 2,
      "metadata": {},
      "outputs": [],
      "source": [
        "w3.cfx.wait_till_transaction_mined(tx_hash)\n",
        "w3.cfx.wait_till_transaction_executed(tx_hash)\n",
        "w3.cfx.wait_till_transaction_confirmed(tx_hash)\n",
        "if False: # 需要 5~10 分钟\n",
        "    w3.cfx.wait_till_transaction_finalized(tx_hash)"
      ]
    },
    {
      "cell_type": "markdown",
      "metadata": {},
      "source": [
        "### 语法糖\n",
        "\n",
        "我们经常需要跟踪已发送交易的状态，因此SDK 将`send_transacation`或`send_raw_transaction`返回的交易哈希进行了封装，以便访问上述API。"
      ]
    },
    {
      "cell_type": "code",
      "execution_count": 3,
      "metadata": {},
      "outputs": [],
      "source": [
        "tx_hash.mined()\n",
        "tx_hash.executed()\n",
        "tx_hash.confirmed()\n",
        "if False:\n",
        "    tx_hash.finalized()"
      ]
    }
  ],
  "metadata": {
    "kernelspec": {
      "display_name": "Python 3.9.13 ('sdk')",
      "language": "python",
      "name": "python3"
    },
    "language_info": {
      "codemirror_mode": {
        "name": "ipython",
        "version": 3
      },
      "file_extension": ".py",
      "mimetype": "text/x-python",
      "name": "python",
      "nbconvert_exporter": "python",
      "pygments_lexer": "ipython3",
      "version": "3.9.13"
    },
    "orig_nbformat": 4,
    "vscode": {
      "interpreter": {
        "hash": "a3057bbf184bca29acc6a0538c16f383babaf4f383bee8205e8e826137244d0e"
      }
    }
  },
  "nbformat": 4,
  "nbformat_minor": 2
}
