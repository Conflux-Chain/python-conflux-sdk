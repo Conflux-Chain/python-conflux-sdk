{
  "cells": [
    {
      "cell_type": "markdown",
      "metadata": {},
      "source": [
        "# 快速开始\n",
        "\n",
        "点击顶部栏上的`🚀` -> `Binder`按钮能够在线运行此示例。\n",
        "\n",
        "这个例子将展示：\n",
        "\n",
        "- 如何通过节点连接到区块链\n",
        "- 如何创建和使用`account`\n",
        "- 如何与合约交互，如何发送交易"
      ]
    },
    {
      "cell_type": "markdown",
      "metadata": {},
      "source": [
        "## 连接到节点\n",
        "\n",
        "我们一般会通过节点连接到 Conflux 区块链。您可以按照[本教程](https://developer.confluxnetwork.org/conflux-doc/docs/get_started/)在本地运行节点。为了演示的方便，在这个例子中，我们连接到的节点为[Conflux 公共 RPC](https://developer.confluxnetwork.org/sdks-and-tools/en/conflux_rpcs)来连接到测试网。"
      ]
    },
    {
      "cell_type": "code",
      "execution_count": 1,
      "metadata": {},
      "outputs": [],
      "source": [
        "from conflux_web3 import Web3\n",
        "\n",
        "w3 = Web3(Web3.HTTPProvider(\"https://test.confluxrpc.com\"))\n",
        "assert w3.is_connected()"
      ]
    },
    {
      "cell_type": "markdown",
      "metadata": {},
      "source": [
        "### 创建一个帐户\n",
        "\n",
        "在 web3 中，拥有一个帐户往往意味着知道一个**秘密值**，该值也被称为账户的**私钥/密钥**。也就是说，知道私钥的人也就控制了账户。\n",
        "\n",
        "在SDK中，我们可以使用`w3.account.create()`创建一个新帐户。该函数使用一个随机生成的密钥创建帐户对象。\n",
        "\n",
        "SDK 也支持使用`w3.account.from_key(\"0x....\")`来使用私钥（**但不要在不安全的环境中使用私钥** ）"
      ]
    },
    {
      "cell_type": "code",
      "execution_count": 2,
      "metadata": {},
      "outputs": [
        {
          "name": "stdout",
          "output_type": "stream",
          "text": [
            "account address: cfxtest:aaswj28188e35rh1vguksgnuz2xy4f8apye3745zxb\n",
            "account secret key: 0x54d957b2485980fc2119ccce6480ad0d53219161595424fbf7dc452d59c6bc82\n",
            "balance for cfxtest:aaswj28188e35rh1vguksgnuz2xy4f8apye3745zxb: 0 Drip\n"
          ]
        }
      ],
      "source": [
        "acct = w3.account.create()\n",
        "print(f\"account address: {acct.address}\")\n",
        "# 注意: 不要在生产环境中运行下面这行，私钥应该保密\n",
        "print(f\"account secret key: {acct._private_key.hex()}\")\n",
        "balance = w3.cfx.get_balance(acct.address)\n",
        "# 随机账户，因此余额为 0\n",
        "assert balance == 0\n",
        "print(f\"balance for {acct.address}: {balance}\")"
      ]
    },
    {
      "cell_type": "markdown",
      "metadata": {},
      "source": [
        "## 通过测试网水龙头合约领取 CFX\n",
        "\n",
        "因为账户的余额是`0`，所以该账户无法支付发送交易所需的交易费（gas）。但是，Conflux 的[赞助机制](https://forum.conflux.fun/t/conflux-sponsorship-mechanism/12764)允许用户在不支付 gas 的情况下与智能合约进行交互，因此我们可以从[测试网水龙头合约](https://testnet.confluxscan.net/address/cfxtest:acejjfa80vj06j2jgtz9pngkv423fhkuxj786kjr61)中领取 CFX。\n",
        "\n",
        "> 智能合约是什么：智能合约是部署在区块链网络上的程序。它提供了用于执行特定逻辑的接口。在下面示例中，调用水龙头合约的 `claimCfx` 方法将为您提供 1000 个测试网 CFX。"
      ]
    },
    {
      "cell_type": "code",
      "execution_count": 3,
      "metadata": {},
      "outputs": [
        {
          "name": "stdout",
          "output_type": "stream",
          "text": [
            "tx hash is: 0xf174cf4be19b33da58504ef850bfd055bd031324135093276abbee1c34df854d\n",
            "conflux scan link: https://testnet.confluxscan.net/transaction/0xf174cf4be19b33da58504ef850bfd055bd031324135093276abbee1c34df854d\n"
          ]
        }
      ],
      "source": [
        "# 首先设置 `w3.cfx.default_account` 为 `acct`,\n",
        "# 这样交易能够被自动签名发送。\n",
        "w3.cfx.default_account = acct\n",
        "\n",
        "# 与测试网水龙头合约交互\n",
        "faucet = w3.cfx.contract(name=\"Faucet\")\n",
        "tx_hash = faucet.functions.claimCfx().transact()\n",
        "\n",
        "print(f\"tx hash is: {tx_hash.hex()}\\n\"\n",
        "      f\"confluxscan link: https://testnet.confluxscan.net/transaction/{tx_hash.hex()}\")"
      ]
    },
    {
      "cell_type": "code",
      "execution_count": 4,
      "metadata": {},
      "outputs": [
        {
          "name": "stdout",
          "output_type": "stream",
          "text": [
            "balance for cfxtest:aaswj28188e35rh1vguksgnuz2xy4f8apye3745zxb: 1000 CFX\n"
          ]
        }
      ],
      "source": [
        "# 在 Conflux, 交易上链 5 个 epoch 之后才会被执行\n",
        "# `tx_hash.executed()` 与 `w3.cfx.wait_for_transaction_receipt(tx_hash)` 是等价的\n",
        "tx_hash.executed()\n",
        "# Drip 与 CFX 是 Conflux 区块链中的代币单位\n",
        "# 1 CFX = 10**18 Drip\n",
        "print(f\"balance for {acct.address}: {w3.cfx.get_balance(acct.address).to('CFX')}\")"
      ]
    },
    {
      "cell_type": "markdown",
      "metadata": {},
      "source": [
        "## 进行 CFX 转账\n",
        "\n",
        "现在我们能够支付交易费了。接下来我们可以进行转账操作，例如将 1 个 CFX 发送到零地址。"
      ]
    },
    {
      "cell_type": "code",
      "execution_count": 5,
      "metadata": {},
      "outputs": [
        {
          "name": "stdout",
          "output_type": "stream",
          "text": [
            "balance for cfxtest:aaswj28188e35rh1vguksgnuz2xy4f8apye3745zxb: 998.999979 CFX\n"
          ]
        }
      ],
      "source": [
        "# Now acct has CFX\n",
        "# send 1 CFX to zero address\n",
        "w3.cfx.send_transaction({\n",
        "    \"to\": w3.address.zero_address(),\n",
        "    \"value\": 10**18,\n",
        "}).executed()\n",
        "print(f\"balance for {acct.address}: {w3.cfx.get_balance(acct.address).to('CFX')}\")"
      ]
    }
  ],
  "metadata": {
    "kernelspec": {
      "display_name": "Python 3.9.13 ('sdk')",
      "language": "python",
      "name": "python3"
    },
    "language_info": {
      "codemirror_mode": {
        "name": "ipython",
        "version": 3
      },
      "file_extension": ".py",
      "mimetype": "text/x-python",
      "name": "python",
      "nbconvert_exporter": "python",
      "pygments_lexer": "ipython3",
      "version": "3.9.13"
    },
    "orig_nbformat": 4,
    "vscode": {
      "interpreter": {
        "hash": "a3057bbf184bca29acc6a0538c16f383babaf4f383bee8205e8e826137244d0e"
      }
    }
  },
  "nbformat": 4,
  "nbformat_minor": 2
}
