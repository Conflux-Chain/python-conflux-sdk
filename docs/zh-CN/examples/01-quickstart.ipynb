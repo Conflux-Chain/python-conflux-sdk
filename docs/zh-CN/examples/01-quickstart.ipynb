{
  "cells": [
    {
      "cell_type": "markdown",
      "metadata": {
      },
      "source": [
        "# 快速开始\n",
        "\n",
        "单击顶部栏上的`🚀` -&gt; `Binder`按钮能够在线运行此示例。\n",
        "\n",
        "这个例子将展示：\n",
        "\n",
        "- 如何通过节点连接到区块链\n",
        "- 如何创建和使用`account`\n",
        "- 如何与合约交互，如何发送交易"
      ]
    },
    {
      "cell_type": "markdown",
      "metadata": {
      },
      "source": [
        "## 连接到节点\n",
        "\n",
        "我们应该通过一个节点连接到 Conflux 网络。您可以按照[本教程](https://developer.confluxnetwork.org/conflux-doc/docs/get_started/)在本地运行节点，但本地运行节点可能会占用大量资源。因此在这个例子中，我们连接到[Conflux 测试网公共 RPC 端点](https://developer.confluxnetwork.org/sdks-and-tools/en/conflux_rpcs)。"
      ]
    },
    {
      "cell_type": "code",
      "execution_count": 1,
      "metadata": {
      },
      "outputs": [

      ],
      "source": [
        "from conflux_web3 import Web3\n",
        "\n",
        "w3 = Web3(Web3.HTTPProvider(\"https://test.confluxrpc.com\"))\n",
        "assert w3.is_connected()"
      ]
    },
    {
      "cell_type": "markdown",
      "metadata": {
      },
      "source": [
        "### 创建一个帐户\n",
        "\n",
        "在 web3 中，通常，拥有一个帐户意味着知道一个**secret**或**private key** 。这个秘密应该保密，没有人知道。\n",
        "\n",
        "现在我们将使用`w3.account.create()`创建一个新帐户。此函数从随机密钥生成帐户。由于这个账户是从一个随机密钥生成的，它的余额应该是`0` 。\n",
        "\n",
        "还支持使用`w3.account.from_key(\"0x....\")`来使用您的密钥（**但不要在不安全的环境中运行它！** ）"
      ]
    },
    {
      "cell_type": "code",
      "execution_count": 2,
      "metadata": {
      },
      "outputs": [
        {
          "name": "stdout",
          "output_type": "stream",
          "text": [
            "account address: cfxtest:aaswj28188e35rh1vguksgnuz2xy4f8apye3745zxb\n",
            "account secret key: 0x54d957b2485980fc2119ccce6480ad0d53219161595424fbf7dc452d59c6bc82\n",
            "balance for cfxtest:aaswj28188e35rh1vguksgnuz2xy4f8apye3745zxb: 0 Drip\n"
          ]
        }
      ],
      "source": [
        "acct = w3.account.create()\n",
        "print(f\"account address: {acct.address}\")\n",
        "# WARNING: Don't run the following line in production environment, private key should be kept secret\n",
        "print(f\"account secret key: {acct._private_key.hex()}\")\n",
        "balance = w3.cfx.get_balance(acct.address)\n",
        "assert balance == 0\n",
        "print(f\"balance for {acct.address}: {balance}\")"
      ]
    },
    {
      "cell_type": "markdown",
      "metadata": {
      },
      "source": [
        "## 通过测试网水龙头合约申领 CFX\n",
        "\n",
        "因为账户的余额是`0` ，所以它负担不起发送交易所需的**gas** 。但是，Conflux 的[赞助机制](https://forum.conflux.fun/t/conflux-sponsorship-mechanism/12764)允许用户在不支付 gas 的情况下与智能合约进行交互，因此我们可以从[testnet faucet](https://testnet.confluxscan.net/address/cfxtest:acejjfa80vj06j2jgtz9pngkv423fhkuxj786kjr61)领取 CFX。\n",
        "\n",
        "> 什么是智能合约？智能合约是部署在区块链网络上的程序。它提供接口来完成特定的逻辑。在示例中，调用水龙头合约的`claimCfx`方法将为您提供 1000 个测试网 CFX。"
      ]
    },
    {
      "cell_type": "code",
      "execution_count": 3,
      "metadata": {
      },
      "outputs": [
        {
          "name": "stdout",
          "output_type": "stream",
          "text": [
            "tx hash is: 0xf174cf4be19b33da58504ef850bfd055bd031324135093276abbee1c34df854d\n",
            "conflux scan link: https://testnet.confluxscan.net/transaction/0xf174cf4be19b33da58504ef850bfd055bd031324135093276abbee1c34df854d\n"
          ]
        }
      ],
      "source": [
        "# Firstly we will set `w3.cfx.default_account` to `acct``, after that transactions can be automatically sent.\n",
        "w3.cfx.default_account = acct\n",
        "\n",
        "# Next we will interact with testnet Faucet contract\n",
        "faucet = w3.cfx.contract(name=\"Faucet\")\n",
        "tx_hash = faucet.functions.claimCfx().transact()\n",
        "\n",
        "print(f\"tx hash is: {tx_hash.hex()}\\n\"\n",
        "      f\"conflux scan link: https://testnet.confluxscan.net/transaction/{tx_hash.hex()}\")"
      ]
    },
    {
      "cell_type": "code",
      "execution_count": 4,
      "metadata": {
      },
      "outputs": [
        {
          "name": "stdout",
          "output_type": "stream",
          "text": [
            "balance for cfxtest:aaswj28188e35rh1vguksgnuz2xy4f8apye3745zxb: 1000 CFX\n"
          ]
        }
      ],
      "source": [
        "# in Conflux, the transaction will be executed only after it appears on the chain for 5 epoch\n",
        "# `tx_hash.executed()` is equivalent to `w3.cfx.wait_for_transaction_receipt(tx_hash)`\n",
        "tx_hash.executed()\n",
        "print(f\"balance for {acct.address}: {w3.cfx.get_balance(acct.address).to('CFX')}\")"
      ]
    },
    {
      "cell_type": "markdown",
      "metadata": {
      },
      "source": [
        "## 将 CFX 发送给其他人\n",
        "\n",
        "现在我们有大量的测试网 CFX 可以做任何你想做的事情。例如，我们可以将 1 个 CFX 发送到零地址。"
      ]
    },
    {
      "cell_type": "code",
      "execution_count": 5,
      "metadata": {
      },
      "outputs": [
        {
          "name": "stdout",
          "output_type": "stream",
          "text": [
            "balance for cfxtest:aaswj28188e35rh1vguksgnuz2xy4f8apye3745zxb: 998.999979 CFX\n"
          ]
        }
      ],
      "source": [
        "# Now acct has CFX\n",
        "# send 1 CFX to zero address\n",
        "w3.cfx.send_transaction({\n",
        "    \"to\": w3.address.zero_address(),\n",
        "    \"value\": 10**18,\n",
        "}).executed()\n",
        "print(f\"balance for {acct.address}: {w3.cfx.get_balance(acct.address).to('CFX')}\")"
      ]
    }
  ],
  "metadata": {
    "kernelspec": {
      "display_name": "Python 3.9.13 ('venv39': venv)",
      "language": "python",
      "name": "python3"
    },
    "language_info": {
      "codemirror_mode": {
        "name": "ipython",
        "version": 3
      },
      "file_extension": ".py",
      "mimetype": "text/x-python",
      "name": "python",
      "nbconvert_exporter": "python",
      "pygments_lexer": "ipython3",
      "version": "3.9.13"
    },
    "orig_nbformat": 4,
    "vscode": {
      "interpreter": {
        "hash": "9b7fb9a8ba8be13c6b92820560c2e7f0c114ca03a55934a046d1bf6afa009968"
      }
    }
  },
  "nbformat": 4,
  "nbformat_minor": 2
}
