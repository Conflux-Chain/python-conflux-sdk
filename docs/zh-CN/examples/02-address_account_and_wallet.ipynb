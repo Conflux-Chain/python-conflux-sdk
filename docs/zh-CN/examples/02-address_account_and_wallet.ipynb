{
  "cells": [
    {
      "cell_type": "markdown",
      "metadata": {},
      "source": [
        "# 账户、地址与钱包\n",
        "\n",
        "单击顶部栏上的`🚀` -&gt; `Binder`在线运行此示例！"
      ]
    },
    {
      "cell_type": "markdown",
      "metadata": {},
      "source": [
        "## 准备\n",
        "\n",
        "本部分将准备`web3`对象与私钥`private_key`，提供后文代码所需的变量。"
      ]
    },
    {
      "cell_type": "code",
      "execution_count": 2,
      "metadata": {},
      "outputs": [],
      "source": [
        "# 领取 1000 CFX 到私钥对应的账户\n",
        "from pprint import pprint\n",
        "from conflux_web3 import Web3\n",
        "\n",
        "w3_ = Web3(Web3.HTTPProvider(\"https://test.confluxrpc.com\"))\n",
        "\n",
        "acct = w3_.account.create()\n",
        "\n",
        "w3_.cfx.default_account = acct\n",
        "\n",
        "faucet = w3_.cfx.contract(name=\"Faucet\")\n",
        "tx_receipt = faucet.functions.claimCfx().transact().executed()\n",
        "\n",
        "# 新建w3对象以便演示API的用法\n",
        "w3 = Web3(Web3.HTTPProvider(\"https://test.confluxrpc.com\"))\n",
        "private_key: str = acct.key.hex()"
      ]
    },
    {
      "cell_type": "markdown",
      "metadata": {},
      "source": [
        "## 账户与地址\n",
        "\n",
        "在 web3 中，控制着一个帐户意味着知道一个私钥。虽然私钥应该保密，但***地址***不必。地址是从私钥单向派生的字符串，用于标识帐户。不同区块链常常会使用不同方式编码账户地址，例如比特币与以太坊的地址编码方式就存在区别。在 Conflux 中，地址以[CIP-37](https://github.com/Conflux-Chain/CIPs/blob/master/CIPs/cip-37.md)定义的 base32 格式编码。\n"
      ]
    },
    {
      "cell_type": "markdown",
      "metadata": {},
      "source": [
        "### `LocalAccount`对象\n",
        "\n",
        "`w3.account`是一个工厂对象，用于生成用来签署交易的`LocalAccount`对象（例如`random_account` ）。\n",
        "\n",
        "**注意：手动签署交易相当繁琐。请参阅[钱包](#wallet)部分了解如何使用钱包签名和发送交易。或者您可以参考[从头构建交易](./11-construct_transaction_from_scratch.ipynb)了解如何正确手动签名交易。**\n",
        "\n",
        "> 更多文档： `w3.account`是一个`cfx_account.Account`对象，其继承自`eth_account.Account` ，大部分api与[eth_account](https://eth-account.readthedocs.io/en/stable/eth_account.html)一致。"
      ]
    },
    {
      "cell_type": "code",
      "execution_count": 3,
      "metadata": {},
      "outputs": [
        {
          "name": "stdout",
          "output_type": "stream",
          "text": [
            "account address: cfxtest:aanywwykvp5nv9atnh7p287s2r48wcgf9j3xjce7kj\n",
            "account private key: 0x11d748040e0c1da3d4342a25e98ac4f9463b9b11491a04201834914c35b5670c\n",
            "signed raw tx: 0xf867e301843b9aca00825208940000000000000000000000000000000000000000018064018001a0eedd9a79b05d1a42f75e972e2ef2b6536a49de81a11f26d9095c146ce95ee314a00ed7bd5f8cef819175525988970c4eb7739755b7138afdd4d5b671acb55c9b49\n"
          ]
        }
      ],
      "source": [
        "random_account = w3.account.from_key(private_key)\n",
        "print(f\"account address: {random_account.address}\")\n",
        "print(f\"account private key: {private_key}\")\n",
        "\n",
        "transaction = {\n",
        "    'to': w3.address.zero_address(),\n",
        "    'nonce': 1,\n",
        "    'value': 1,\n",
        "    'gas': 21000,\n",
        "    'gasPrice': 10**9,\n",
        "    'storageLimit': 0,\n",
        "    'epochHeight': 100,\n",
        "    'chainId': 1\n",
        "}\n",
        "print(f\"signed raw tx: {random_account.sign_transaction(transaction).rawTransaction.hex()}\")"
      ]
    },
    {
      "cell_type": "markdown",
      "metadata": {},
      "source": [
        "#### 怎样创建一个`LocalAccount`对象\n",
        "\n",
        "以下是创建`LocalAccount`对象的几种方法：\n",
        "\n",
        "* 通过使用 `w3.account.create` 生成随机密钥\n",
        "* 通过使用 `w3.account.from_key` 从已有密钥中创建\n",
        "* 通过使用 `w3.account.from_mnemonic` 从助记词创建\n",
        "* 通过使用 `w3.account.decrypt` 从密钥存储文件中创建\n",
        "\n",
        "下面是使用上述 API 的示例："
      ]
    },
    {
      "cell_type": "code",
      "execution_count": null,
      "metadata": {},
      "outputs": [],
      "source": [
        "# 随机生成\n",
        "# 这个 API 会从操作系统中收集随机性来生成账户，参数可以提供额外的熵\n",
        "generated_account = w3.account.create(\"extra_entropy\")\n",
        "\n",
        "# 从已有密钥中生成\n",
        "generated_account = w3.account.from_key(\"0xb25c7db31feed9122727bf0939dc769a96564b2de4c4726d035b36ecf1e5b364\")\n",
        "\n",
        "# 从助记词中生成\n",
        "# \"m/44'/503'/0'/0/0\" 是 Conflux 默认派生路径\n",
        "generated_account = w3.account.from_mnemonic(\n",
        "    \"health embark april buyer eternal leopard want before nominee head thing tackle\",\n",
        "    passphrase=\"\",\n",
        "    account_path=\"m/44'/503'/0'/0/0\"\n",
        ")\n",
        "\n",
        "# 由keystore文件中生成\n",
        "# 当然，也可以使用 `w3.account.encrypt` 来获取一个keystore 文件对应的JSON\n",
        "keystore = {\n",
        "    \"version\": 3,\n",
        "    \"id\": \"db029583-f1bd-41cc-aeb5-b2ed5b33227b\",\n",
        "    \"address\": \"1cad0b19bb29d4674531d6f115237e16afce377c\",\n",
        "    \"crypto\": {\n",
        "        \"ciphertext\": \"3198706577b0880234ecbb5233012a8ca0495bf2cfa2e45121b4f09434187aba\",\n",
        "        \"cipherparams\": {\"iv\": \"a9a1f9565fd9831e669e8a9a0ec68818\"},\n",
        "        \"cipher\": \"aes-128-ctr\",\n",
        "        \"kdf\": \"scrypt\",\n",
        "        \"kdfparams\": {\n",
        "            \"dklen\": 32,\n",
        "            \"salt\": \"3ce2d51bed702f2f31545be66fa73d1467d24686059776430df9508407b74231\",\n",
        "            \"n\": 8192,\n",
        "            \"r\": 8,\n",
        "            \"p\": 1,\n",
        "        },\n",
        "        \"mac\": \"cf73832f328f3d5d1e0ec7b0f9c220facf951e8bba86c9f26e706d2df1e34890\",\n",
        "    }\n",
        "}\n",
        "generated_account = w3.account.decrypt(keystore, password=\"password\")"
      ]
    },
    {
      "cell_type": "markdown",
      "metadata": {},
      "source": [
        "### Conflux 地址\n",
        "\n",
        "在 Conflux 中，地址按照[CIP-37](https://github.com/Conflux-Chain/CIPs/blob/master/CIPs/cip-37.md)以 base32 格式编码。你可以简单地从地址字面推断出该地址属于主网、测试网或其他网络。"
      ]
    },
    {
      "cell_type": "code",
      "execution_count": 4,
      "metadata": {},
      "outputs": [],
      "source": [
        "# \"cfxtest\" 代表该地址为测试网地址\n",
        "assert random_account.address.startswith(\"cfxtest:\")"
      ]
    },
    {
      "cell_type": "markdown",
      "metadata": {},
      "source": [
        "SDK 返回的地址都被类`Base32Address`包裹。该类提供了方便的方法来操作 base32 地址，但你也可以将`Base32Address`对象用作普通的 python `str`对象。[Base32Address 文档](https://conflux-fans.github.io/cfx-address/cfx_address.html#module-cfx_address.address)提供了更详细的代码示例。"
      ]
    },
    {
      "cell_type": "code",
      "execution_count": 5,
      "metadata": {},
      "outputs": [
        {
          "name": "stdout",
          "output_type": "stream",
          "text": [
            "the type of addr: <class 'cfx_address.address.Base32Address'>\n",
            "cfxtest:aatp533cg7d0agbd87kz48nj1mpnkca8be1rz695j4\n",
            "['user',\n",
            " 1,\n",
            " '0x1ecde7223747601823f7535d7968ba98b4881e09',\n",
            " 'CFXTEST:TYPE.USER:AATP533CG7D0AGBD87KZ48NJ1MPNKCA8BE1RZ695J4',\n",
            " 'cfxtest:aat...95j4',\n",
            " '0x349f086998cF4a0C5a00b853a0E93239D81A97f6',\n",
            " '0x1ECdE7223747601823f7535d7968Ba98b4881E09']\n"
          ]
        }
      ],
      "source": [
        "addr = random_account.address\n",
        "print(f\"the type of addr: {type(addr)}\")\n",
        "# a Base32Address object is also a `str`\n",
        "assert isinstance(addr, str)\n",
        "\n",
        "# encode a base32 address from hex address and network_id\n",
        "# it is also supported to use `w3.address(\"cfxtest:aatp533cg7d0agbd87kz48nj1mpnkca8be1rz695j4\")`\n",
        "address = w3.address(\"0x1ecde7223747601823f7535d7968ba98b4881e09\", network_id=1)\n",
        "print(address)\n",
        "pprint([\n",
        "    address.address_type,\n",
        "    address.network_id,\n",
        "    address.hex_address,\n",
        "    address.verbose_address,\n",
        "    address.abbr,\n",
        "    address.mapped_evm_space_address,\n",
        "    address.eth_checksum_address,\n",
        "])"
      ]
    },
    {
      "cell_type": "markdown",
      "metadata": {},
      "source": [
        "## 钱包\n",
        "\n",
        "我们使用钱包中间件(`w3.wallet`)来帮助我们签名发送交易。如果某未签名交易的`from`账户已添加至`w3.wallet`中，它将对通过`w3.cfx.send_transaction`发送的未签名交易进行签名。\n",
        "\n",
        "> `wallet`中间件的行为与`web3.py`的`construct_sign_and_send_raw_middleware`基本一致，但提供了更多功能。例如，我们可以使用`w3.wallet.add_account` 、 `w3.wallet.add_accounts` 、 `w3.wallet.pop`来动态添加或删除帐户。 "
      ]
    },
    {
      "cell_type": "code",
      "execution_count": 6,
      "metadata": {},
      "outputs": [
        {
          "data": {
            "text/plain": [
              "AttributeDict({'transactionHash': HexBytes('0x1b53a9e6efa47aa2380ab457b2d7a3a079d14fc362a7bc8830d53e56287f1aa2'),\n",
              " 'index': 0,\n",
              " 'blockHash': HexBytes('0x466eeaec283b8a272179e3d5adcec05f7aadd010e28ab740bd18d68da9272f8a'),\n",
              " 'epochNumber': 99718048,\n",
              " 'from': 'cfxtest:aanywwykvp5nv9atnh7p287s2r48wcgf9j3xjce7kj',\n",
              " 'to': 'cfxtest:aanywwykvp5nv9atnh7p287s2r48wcgf9j3xjce7kj',\n",
              " 'gasUsed': 21000,\n",
              " 'gasFee': 21000000000000 Drip,\n",
              " 'contractCreated': None,\n",
              " 'logs': [],\n",
              " 'logsBloom': HexBytes('0x00000000000000000000000000000000000000000000000000000000000000000000000000000000000000000000000000000000000000000000000000000000000000000000000000000000000000000000000000000000000000000000000000000000000000000000000000000000000000000000000000000000000000000000000000000000000000000000000000000000000000000000000000000000000000000000000000000000000000000000000000000000000000000000000000000000000000000000000000000000000000000000000000000000000000000000000000000000000000000000000000000000000000000000000000000000'),\n",
              " 'stateRoot': HexBytes('0x23e4baa1f61ece6aaa6aa05fb74d9877e03be1efa316300a977617a88dc9cb10'),\n",
              " 'outcomeStatus': 0,\n",
              " 'txExecErrorMsg': None,\n",
              " 'gasCoveredBySponsor': False,\n",
              " 'storageCoveredBySponsor': False,\n",
              " 'storageCollateralized': 0,\n",
              " 'storageReleased': []})"
            ]
          },
          "execution_count": 6,
          "metadata": {},
          "output_type": "execute_result"
        }
      ],
      "source": [
        "# wallet是 conflux_web3 的中间件，可向其中添加 LocalAccount\n",
        "assert w3.wallet is w3.middleware_onion[\"wallet\"]\n",
        "\n",
        "w3.wallet.add_account(random_account)\n",
        "\n",
        "assert random_account.address in w3.wallet\n",
        "w3.cfx.send_transaction({\n",
        "    \"from\": random_account.address,\n",
        "    \"to\": random_account.address,\n",
        "    \"value\": 10**18\n",
        "}).executed()"
      ]
    },
    {
      "cell_type": "markdown",
      "metadata": {},
      "source": [
        "### 使用`w3.cfx.default_account`将账户添加到钱包\n",
        "\n",
        "当 `w3.cfx.default_account` 被设置后，若交易的 `from` 字段未指定，则将被自动设置为 `w3.cfx.default_account`。\n",
        "\n",
        "`w3.cfx.default_account`是一个地址类型的变量，但可以使用`LocalAccount`对象进行设置。在这种情况下，该`LocalAccount`将同时添加到钱包中。\n",
        "\n",
        "```python\n",
        "w3.cfx.default_account = random_account\n",
        "```\n",
        "\n",
        "相当于\n",
        "\n",
        "```python\n",
        "w3.cfx.default_account = random_account.address\n",
        "w3.wallet.add_account(random_account)\n",
        "```"
      ]
    }
  ],
  "metadata": {
    "kernelspec": {
      "display_name": "Python 3.9.13 ('sdk')",
      "language": "python",
      "name": "python3"
    },
    "language_info": {
      "codemirror_mode": {
        "name": "ipython",
        "version": 3
      },
      "file_extension": ".py",
      "mimetype": "text/x-python",
      "name": "python",
      "nbconvert_exporter": "python",
      "pygments_lexer": "ipython3",
      "version": "3.9.13"
    },
    "orig_nbformat": 4,
    "vscode": {
      "interpreter": {
        "hash": "a3057bbf184bca29acc6a0538c16f383babaf4f383bee8205e8e826137244d0e"
      }
    }
  },
  "nbformat": 4,
  "nbformat_minor": 2
}
