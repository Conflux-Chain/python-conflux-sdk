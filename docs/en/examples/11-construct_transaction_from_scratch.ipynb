{
 "cells": [
  {
   "cell_type": "markdown",
   "metadata": {},
   "source": [
    "## `conflux-web3` Code Example 11: Construct Transaction from Sratch\n",
    "\n",
    "This example shows how to constuct a transaction from scratch. If you are new to web3 development, we recommend you refer to the example to send transactions in [quickstart](./01-quickstart.ipynb)."
   ]
  },
  {
   "cell_type": "code",
   "execution_count": 1,
   "metadata": {},
   "outputs": [],
   "source": [
    "from conflux_web3 import Web3\n",
    "\n",
    "w3 = Web3(Web3.HTTPProvider(\"https://test.confluxrpc.com\"))\n",
    "account = w3.account.from_key(\"0x....\") # fill your secret key here"
   ]
  },
  {
   "cell_type": "markdown",
   "metadata": {},
   "source": [
    "The meaning of each field is expalained [here]()"
   ]
  },
  {
   "cell_type": "code",
   "execution_count": null,
   "metadata": {},
   "outputs": [],
   "source": [
    "prebuilt_tx = {\n",
    "    'from': account.address,\n",
    "    'nonce': w3.cfx.get_next_nonce(account.address),\n",
    "    'to': w3.account.create().address,\n",
    "    'value': 100,\n",
    "    'gasPrice': w3.cfx.gas_price,\n",
    "    'chainId': w3.cfx.chain_id,\n",
    "    # 'gas': 21000, \n",
    "    # 'storageLimit': 0,\n",
    "    'epochHeight': w3.cfx.epoch_number\n",
    "}\n",
    "\n",
    "# estimate\n",
    "estimate_result = w3.cfx.estimate_gas_and_collateral(prebuilt_tx)\n",
    "\n",
    "prebuilt_tx['gas'] = estimate_result['gasLimit']\n",
    "prebuilt_tx['storageLimit'] = estimate_result['storageCollateralized']\n",
    "\n",
    "w3.cfx.send_raw_transaction(\n",
    "    account.sign_transaction(prebuilt_tx).rawTransaction \n",
    ").executed()"
   ]
  }
 ],
 "metadata": {
  "kernelspec": {
   "display_name": "Python 3.9.13 ('sdk')",
   "language": "python",
   "name": "python3"
  },
  "language_info": {
   "codemirror_mode": {
    "name": "ipython",
    "version": 3
   },
   "file_extension": ".py",
   "mimetype": "text/x-python",
   "name": "python",
   "nbconvert_exporter": "python",
   "pygments_lexer": "ipython3",
   "version": "3.9.13"
  },
  "orig_nbformat": 4,
  "vscode": {
   "interpreter": {
    "hash": "a3057bbf184bca29acc6a0538c16f383babaf4f383bee8205e8e826137244d0e"
   }
  }
 },
 "nbformat": 4,
 "nbformat_minor": 2
}
