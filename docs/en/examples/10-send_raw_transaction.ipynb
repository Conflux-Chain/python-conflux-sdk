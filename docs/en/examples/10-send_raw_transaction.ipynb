{
 "cells": [
  {
   "cell_type": "markdown",
   "metadata": {},
   "source": [
    "# Send a Transaction Using `send_raw_transaction`\n",
    "\n",
    "Run this example online by clicking `🚀` -> `Binder` on the top bar!\n",
    "\n",
    "This example shows how to sign a transaction without using `w3.wallet` and how to send a transaction using `send_raw_transaction`. This method is more flexible but simultaneously more complex to use. Refer to [quickstart](./01-quickstart.ipynb) if you only want to get acquiantance to how to send a transaction. "
   ]
  },
  {
   "cell_type": "code",
   "execution_count": 1,
   "metadata": {},
   "outputs": [],
   "source": [
    "import pprint\n",
    "from conflux_web3 import Web3\n",
    "from conflux_web3.utils import fill_transaction_defaults\n",
    "\n",
    "w3 = Web3(Web3.HTTPProvider(\"https://test.confluxrpc.com\"))\n",
    "account = w3.account.from_key(\"0x....\") # replace your secret key with \"0x....\""
   ]
  },
  {
   "cell_type": "markdown",
   "metadata": {},
   "source": [
    "## Manully Send a Transaction\n",
    "\n",
    "Basiclly, we follow the workflow of 4 steps to send a transaction:\n",
    "\n",
    "* build transaction\n",
    "* sign transaction\n",
    "* send transaction to the blockchain node(s)\n",
    "* wait for transaction execution result\n",
    "\n",
    "If an account is added to the `w3.wallet`, SDK will help to finish the first 3 steps in a row,\n",
    "otherwise you will need to do the first 3 steps manually."
   ]
  },
  {
   "cell_type": "markdown",
   "metadata": {},
   "source": [
    "### Build a Simple Transaction\n",
    "Only necessary parameters are provided here, and other params are filled by `fill_transaction_defaults`.\n",
    "Refer to [constuct_transaction_from_scratch](./11-constuct_transaction_from_scratch.ipynb) to see how to manually fill each field of a transaction."
   ]
  },
  {
   "cell_type": "code",
   "execution_count": 2,
   "metadata": {},
   "outputs": [],
   "source": [
    "built_trivial_tx = fill_transaction_defaults(w3, {\n",
    "    'from': account.address,\n",
    "    'to': w3.account.create().address,\n",
    "    'value': 100,\n",
    "})"
   ]
  },
  {
   "cell_type": "markdown",
   "metadata": {},
   "source": [
    "### Sign a Transaction"
   ]
  },
  {
   "cell_type": "code",
   "execution_count": 3,
   "metadata": {},
   "outputs": [],
   "source": [
    "signed_tx = account.sign_transaction(built_trivial_tx)"
   ]
  },
  {
   "cell_type": "markdown",
   "metadata": {},
   "source": [
    "### Send the Transaction"
   ]
  },
  {
   "cell_type": "code",
   "execution_count": 4,
   "metadata": {},
   "outputs": [],
   "source": [
    "h = w3.cfx.send_raw_transaction(signed_tx.rawTransaction)"
   ]
  },
  {
   "cell_type": "markdown",
   "metadata": {},
   "source": [
    "### Wait for Transaction Execution"
   ]
  },
  {
   "cell_type": "code",
   "execution_count": 5,
   "metadata": {},
   "outputs": [],
   "source": [
    "tx_receipt = h.executed()"
   ]
  },
  {
   "cell_type": "markdown",
   "metadata": {},
   "source": [
    "## Interact with a Contract"
   ]
  },
  {
   "cell_type": "code",
   "execution_count": 6,
   "metadata": {},
   "outputs": [
    {
     "name": "stdout",
     "output_type": "stream",
     "text": [
      "deployed contract address: cfxtest:acfgtrw53v4ju9jaydmr9yyf9xyvfxpe0e8ny2fd4d\n"
     ]
    }
   ],
   "source": [
    "# if you want to get contract object from metadata file, use\n",
    "# >>> erc20_metadata = json.load(open(\"path/to/ERC20metadata.json\"))\n",
    "# >>> erc20 = web3.cfx.contract(bytecode=erc20_metadata[\"bytecode\"], abi=erc20_metadata[\"abi\"])\n",
    "erc20 = w3.cfx.contract(name=\"ERC20\")\n",
    "\n",
    "# build a transaction\n",
    "# parameters such as 'from'/'gasPrice'/... can be specified in `build_transaction`\n",
    "built_constuct_tx = erc20.constructor(name=\"Coin\", symbol=\"C\", initialSupply=10**18).build_transaction({\n",
    "    'from': account.address,\n",
    "})\n",
    "# sign the transaction\n",
    "construct_tx = account.sign_transaction(built_constuct_tx)\n",
    "# send & wait for execution result\n",
    "contract_address = w3.cfx.send_raw_transaction(construct_tx.rawTransaction).executed()['contractCreated']\n",
    "print(f\"deployed contract address: {contract_address}\")"
   ]
  },
  {
   "cell_type": "code",
   "execution_count": 7,
   "metadata": {},
   "outputs": [
    {
     "name": "stdout",
     "output_type": "stream",
     "text": [
      "erc20 transfer receipt: \n",
      "{'blockHash': HexBytes('0x9b8a0a0e5eb33d67b2c85d4e951b0251e1b972cd00f7c18c53ecacb7fd7edfd3'),\n",
      " 'contractCreated': None,\n",
      " 'epochNumber': 99051304,\n",
      " 'from': 'cfxtest:aanhtnrex2nj56kkbws4yx0jeab34ae16pcap53w13',\n",
      " 'gasCoveredBySponsor': False,\n",
      " 'gasFee': 37063000000000 Drip,\n",
      " 'gasUsed': 37063,\n",
      " 'index': 0,\n",
      " 'logs': [AttributeDict({'address': 'cfxtest:acfgtrw53v4ju9jaydmr9yyf9xyvfxpe0e8ny2fd4d', 'topics': [HexBytes('0xddf252ad1be2c89b69c2b068fc378daa952ba7f163c4a11628f55a4df523b3ef'), HexBytes('0x0000000000000000000000001677ada49e168df1290c9daa4ec820039d0097e3'), HexBytes('0x0000000000000000000000001ab7c2bb12a3484451a55ed15285a4cf10196312')], 'data': HexBytes('0x0000000000000000000000000000000000000000000000000000000000000064')})],\n",
      " 'logsBloom': HexBytes('0x00000020000000000000000000000000000000000000000000000000000000000000000000000000000000000000000000000000000008000000000000000000000000000000000000200008000000000000000000000000000000000000000000000000000000000000000000000000000000000000000000000010000000000000000000000000000040000200000000000000000000200000000000000000000000000000000000000000000000000000000000000000000000000000000000000002000000000000000000000000000000000000000000000000000000000000000000000000200000000400000000000000000000020000000000000000'),\n",
      " 'outcomeStatus': 0,\n",
      " 'stateRoot': HexBytes('0xa14515ac4ad59a0ab8b7c4c1740eb5a97d0b55eabf3b5a0b185867e41d1a1699'),\n",
      " 'storageCollateralized': 64,\n",
      " 'storageCoveredBySponsor': False,\n",
      " 'storageReleased': [],\n",
      " 'to': 'cfxtest:acfgtrw53v4ju9jaydmr9yyf9xyvfxpe0e8ny2fd4d',\n",
      " 'transactionHash': HexBytes('0x224e75f10580194685cd2566bd7ec5fdefd09578fe770bddae2ba9f77842f11a'),\n",
      " 'txExecErrorMsg': None}\n"
     ]
    }
   ],
   "source": [
    "# interact with the deployed contract\n",
    "contract = w3.cfx.contract(address=contract_address, name=\"ERC20\")\n",
    "\n",
    "# build a transaction\n",
    "# parameters such as 'from'/'gasPrice'/... can be specified in `build_transaction`\n",
    "built_transfer_tx = contract.functions.transfer(\n",
    "    w3.account.create().address,\n",
    "    100\n",
    ").build_transaction({\n",
    "    'from': account.address\n",
    "})\n",
    "\n",
    "# sign the transaction\n",
    "signed_transfer_tx = account.sign_transaction(\n",
    "    built_transfer_tx\n",
    ")\n",
    "\n",
    "# send & wait for execution result\n",
    "print(\"erc20 transfer receipt: \")\n",
    "pprint.pprint(\n",
    "    dict(w3.cfx.send_raw_transaction(signed_transfer_tx.rawTransaction).executed())\n",
    ")"
   ]
  }
 ],
 "metadata": {
  "kernelspec": {
   "display_name": "Python 3.9.13 ('sdk')",
   "language": "python",
   "name": "python3"
  },
  "language_info": {
   "codemirror_mode": {
    "name": "ipython",
    "version": 3
   },
   "file_extension": ".py",
   "mimetype": "text/x-python",
   "name": "python",
   "nbconvert_exporter": "python",
   "pygments_lexer": "ipython3",
   "version": "3.9.13"
  },
  "orig_nbformat": 4,
  "vscode": {
   "interpreter": {
    "hash": "a3057bbf184bca29acc6a0538c16f383babaf4f383bee8205e8e826137244d0e"
   }
  }
 },
 "nbformat": 4,
 "nbformat_minor": 2
}
