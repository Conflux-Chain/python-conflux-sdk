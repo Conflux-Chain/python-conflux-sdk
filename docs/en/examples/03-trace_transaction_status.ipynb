{
 "cells": [
  {
   "cell_type": "markdown",
   "metadata": {},
   "source": [
    "# Trace Transaction Status\n",
    "\n",
    "Run this example online by clicking `🚀` -> `Binder` on the top bar!"
   ]
  },
  {
   "cell_type": "markdown",
   "metadata": {},
   "source": [
    "## Preparation"
   ]
  },
  {
   "cell_type": "code",
   "execution_count": 1,
   "metadata": {},
   "outputs": [],
   "source": [
    "# preparation: init w3 instance and prepare transaction hash object tx_hash\n",
    "from conflux_web3 import Web3\n",
    "\n",
    "w3 = Web3(Web3.HTTPProvider(\"https://test.confluxrpc.com\"))\n",
    "acct = w3.account.create()\n",
    "w3.cfx.default_account = acct\n",
    "faucet = w3.cfx.contract(name=\"Faucet\")\n",
    "\n",
    "# get a tx_hash\n",
    "tx_hash = faucet.functions.claimCfx().transact()"
   ]
  },
  {
   "cell_type": "markdown",
   "metadata": {},
   "source": [
    "## Status of a Transaction in Conflux\n",
    "\n",
    "In Conflux, transaction will witness several periods after it is sent:\n",
    "\n",
    "1. `pending`: the transaction is sent, but not contained in any block\n",
    "2. `mined`: the transaction is already contained in a block, but might not be executed\n",
    "3. `executed`: the transaction is executed\n",
    "4. `confirmed`: the transaction is confirmed under PoW chain confirmation rule, which means it is extremly unlikely to be reverted unless the PoW chain is under attack.\n",
    "5. `finalized`: the transaction is **finalized** by PoS chain, which means the transaction is impossible to revert, but it would take 4~6 minutes before a transaction is finalized."
   ]
  },
  {
   "cell_type": "markdown",
   "metadata": {},
   "source": [
    "## Trace the Status of a Transaction\n",
    "\n",
    "We can use `w3.cfx.wait_till_transaction_mined`, `w3.cfx.wait_till_transaction_executed`, `w3.cfx.wait_till_transaction_confirmed`, `w3.cfx.wait_till_transaction_finalized` to wait until transaction reached specific status."
   ]
  },
  {
   "cell_type": "code",
   "execution_count": 2,
   "metadata": {},
   "outputs": [],
   "source": [
    "w3.cfx.wait_till_transaction_mined(tx_hash)\n",
    "w3.cfx.wait_till_transaction_executed(tx_hash)\n",
    "w3.cfx.wait_till_transaction_confirmed(tx_hash)\n",
    "if False: # 4～6 minutes is needed\n",
    "    w3.cfx.wait_till_transaction_finalized(tx_hash)"
   ]
  },
  {
   "cell_type": "markdown",
   "metadata": {},
   "source": [
    "### Syntactic Sugar\n",
    "\n",
    "We often need to trace the status of the sent transaction, so SDK wraps the returned hex transaction hash from `send_transacation` or `send_raw_transaction` to visit the above APIs easily."
   ]
  },
  {
   "cell_type": "code",
   "execution_count": 3,
   "metadata": {},
   "outputs": [],
   "source": [
    "tx_hash.mined()\n",
    "tx_hash.executed()\n",
    "tx_hash.confirmed()\n",
    "if False:\n",
    "    tx_hash.finalized()"
   ]
  }
 ],
 "metadata": {
  "kernelspec": {
   "display_name": "Python 3.9.13 ('sdk')",
   "language": "python",
   "name": "python3"
  },
  "language_info": {
   "codemirror_mode": {
    "name": "ipython",
    "version": 3
   },
   "file_extension": ".py",
   "mimetype": "text/x-python",
   "name": "python",
   "nbconvert_exporter": "python",
   "pygments_lexer": "ipython3",
   "version": "3.9.13"
  },
  "orig_nbformat": 4,
  "vscode": {
   "interpreter": {
    "hash": "a3057bbf184bca29acc6a0538c16f383babaf4f383bee8205e8e826137244d0e"
   }
  }
 },
 "nbformat": 4,
 "nbformat_minor": 2
}
