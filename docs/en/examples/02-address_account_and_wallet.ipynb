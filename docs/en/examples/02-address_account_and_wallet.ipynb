{
 "cells": [
  {
   "cell_type": "markdown",
   "metadata": {},
   "source": [
    "# Account, Address and Wallet\n",
    "\n",
    "Run this example online by clicking `🚀` -> `Binder` on the top bar!"
   ]
  },
  {
   "cell_type": "markdown",
   "metadata": {},
   "source": [
    "## Preparation\n",
    "\n",
    "This part prepares the `web3` instance and key `private_key` to use in the following part of this documentation."
   ]
  },
  {
   "cell_type": "code",
   "execution_count": 1,
   "metadata": {},
   "outputs": [],
   "source": [
    "# claim 1000 CFX\n",
    "from pprint import pprint\n",
    "from conflux_web3 import Web3\n",
    "\n",
    "w3_ = Web3(Web3.HTTPProvider(\"https://test.confluxrpc.com\"))\n",
    "\n",
    "acct = w3_.account.create()\n",
    "\n",
    "w3_.cfx.default_account = acct\n",
    "\n",
    "faucet = w3_.cfx.contract(name=\"Faucet\")\n",
    "tx_receipt = faucet.functions.claimCfx().transact().executed()\n",
    "\n",
    "# we use a new w3 object for the following part\n",
    "w3 = Web3(Web3.HTTPProvider(\"https://test.confluxrpc.com\"))\n",
    "private_key: str = acct.key.hex()"
   ]
  },
  {
   "cell_type": "markdown",
   "metadata": {},
   "source": [
    "# Account and Address\n",
    "\n",
    "In web3, typically, owning an account means knowing a **secret**, or **private key**. Although private key should be kept secret, ***address*** can be revealed. Address is a string one-way derived from the private key, and identifies an account. Different blockchain might adopt different approach to derive an address, e.g. bitcoin and ethereum use different methods to generate account addresses .In Conflux, addresses are encoded in base32 format defined by [CIP-37](https://github.com/Conflux-Chain/CIPs/blob/master/CIPs/cip-37.md).\n"
   ]
  },
  {
   "cell_type": "markdown",
   "metadata": {},
   "source": [
    "### `LocalAccount` Object\n",
    "\n",
    "`w3.account` is a factory which is used to produce `LocalAccount` objects (e.g. `random_account`). which can be used to sign transactions.\n",
    "\n",
    "**NOTE: it is quite tedious to manually sign a transaction. Refer to [wallet](#wallet) part to see how to sign and send a transaction by using wallet. Or you can refer to [construct_transaction_from_scratch](./11-construct_transaction_from_scratch.ipynb) to see how to manually sign transactions correctly.**\n",
    "\n",
    "> More documents: `w3.account` is a `cfx_account.Account` object inherited from `eth_account.Account`, and most of its apis are consistent with [eth_account](https://eth-account.readthedocs.io/en/stable/eth_account.html)."
   ]
  },
  {
   "cell_type": "code",
   "execution_count": 2,
   "metadata": {},
   "outputs": [
    {
     "name": "stdout",
     "output_type": "stream",
     "text": [
      "account address: cfxtest:aammgprea901abxf3778bpct33tbvdgfn6mxsucy09\n",
      "account private key: 0x8e40859bebb5ee9669beabe1446bb0ab71e84b32480c16cd09a56d9a782d73ad\n",
      "signed raw tx: 0xf867e301843b9aca00825208940000000000000000000000000000000000000000018064018001a090e99191d1cda472e965ba40025ba3dd3f22cd54f2cf9f5077118e9bd408613ba0511ff5f3f4f3a9312c7914073a0ce4ef53663b67a017eaddf236adea349595ea\n"
     ]
    }
   ],
   "source": [
    "random_account = w3.account.from_key(private_key)\n",
    "print(f\"account address: {random_account.address}\")\n",
    "print(f\"account private key: {private_key}\")\n",
    "\n",
    "transaction = {\n",
    "    'to': w3.address.zero_address(),\n",
    "    'nonce': 1,\n",
    "    'value': 1,\n",
    "    'gas': 21000,\n",
    "    'gasPrice': 10**9,\n",
    "    'storageLimit': 0,\n",
    "    'epochHeight': 100,\n",
    "    'chainId': 1\n",
    "}\n",
    "print(f\"signed raw tx: {random_account.sign_transaction(transaction).rawTransaction.hex()}\")"
   ]
  },
  {
   "cell_type": "markdown",
   "metadata": {},
   "source": [
    "#### How to Create a `LocalAccount` object\n",
    "\n",
    "There are several ways to create a `LocalAccount` object.\n",
    "\n",
    "* from random by using `w3.account.create`\n",
    "* from existed key by using `w3.account.from_key`\n",
    "* from mnemonic by using `w3.account.from_mnemonic`\n",
    "* from keystore by using `w3.account.decrypt`\n",
    "\n",
    "Here are the examples of how to use the above APIs:"
   ]
  },
  {
   "cell_type": "code",
   "execution_count": 3,
   "metadata": {},
   "outputs": [],
   "source": [
    "# from random\n",
    "# this api will collect randomness from operating system to generate the account,\n",
    "# the parameter could provide extra entropy\n",
    "generated_account = w3.account.create(\"extra_entropy\")\n",
    "\n",
    "# from existed key\n",
    "generated_account = w3.account.from_key(\"0xb25c7db31feed9122727bf0939dc769a96564b2de4c4726d035b36ecf1e5b364\")\n",
    "\n",
    "# from mnemonic\n",
    "# \"m/44'/503'/0'/0/0\" is the default Conflux derive path\n",
    "generated_account = w3.account.from_mnemonic(\n",
    "    \"health embark april buyer eternal leopard want before nominee head thing tackle\",\n",
    "    passphrase=\"\",\n",
    "    account_path=\"m/44'/503'/0'/0/0\"\n",
    ")\n",
    "\n",
    "# from keystore\n",
    "# and of course, you can use `w3.account.encrypt` to get a keystore file json\n",
    "keystore = {\n",
    "    \"version\": 3,\n",
    "    \"id\": \"db029583-f1bd-41cc-aeb5-b2ed5b33227b\",\n",
    "    \"address\": \"1cad0b19bb29d4674531d6f115237e16afce377c\",\n",
    "    \"crypto\": {\n",
    "        \"ciphertext\": \"3198706577b0880234ecbb5233012a8ca0495bf2cfa2e45121b4f09434187aba\",\n",
    "        \"cipherparams\": {\"iv\": \"a9a1f9565fd9831e669e8a9a0ec68818\"},\n",
    "        \"cipher\": \"aes-128-ctr\",\n",
    "        \"kdf\": \"scrypt\",\n",
    "        \"kdfparams\": {\n",
    "            \"dklen\": 32,\n",
    "            \"salt\": \"3ce2d51bed702f2f31545be66fa73d1467d24686059776430df9508407b74231\",\n",
    "            \"n\": 8192,\n",
    "            \"r\": 8,\n",
    "            \"p\": 1,\n",
    "        },\n",
    "        \"mac\": \"cf73832f328f3d5d1e0ec7b0f9c220facf951e8bba86c9f26e706d2df1e34890\",\n",
    "    }\n",
    "}\n",
    "generated_account = w3.account.decrypt(keystore, password=\"password\")"
   ]
  },
  {
   "cell_type": "markdown",
   "metadata": {},
   "source": [
    "### Conflux Addresses\n",
    "\n",
    "In Conflux, addresses are encoded in base32 format following [CIP-37](https://github.com/Conflux-Chain/CIPs/blob/master/CIPs/cip-37.md). You can infer which network the address belongs to simply from the address literal."
   ]
  },
  {
   "cell_type": "code",
   "execution_count": 4,
   "metadata": {},
   "outputs": [],
   "source": [
    "# \"cfxtest\" marks an address in testnet\n",
    "assert random_account.address.startswith(\"cfxtest:\")"
   ]
  },
  {
   "cell_type": "markdown",
   "metadata": {},
   "source": [
    "The addresses returned by SDK are all wrapped by class `Base32Address`. The class provides convenient methods to operate base32 addresses, but you can also use `Base32Address` object as trivial python `str` object. \n",
    "Refer to [Base32Address documentation](https://conflux-fans.github.io/cfx-address/cfx_address.html#module-cfx_address.address) for more information."
   ]
  },
  {
   "cell_type": "code",
   "execution_count": 5,
   "metadata": {},
   "outputs": [
    {
     "name": "stdout",
     "output_type": "stream",
     "text": [
      "the type of addr: <class 'cfx_address.address.Base32Address'>\n",
      "cfxtest:aatp533cg7d0agbd87kz48nj1mpnkca8be1rz695j4\n",
      "['user',\n",
      " 1,\n",
      " '0x1ECdE7223747601823f7535d7968Ba98b4881E09',\n",
      " 'CFXTEST:TYPE.USER:AATP533CG7D0AGBD87KZ48NJ1MPNKCA8BE1RZ695J4',\n",
      " 'cfxtest:aat...95j4',\n",
      " '0x349f086998cF4a0C5a00b853a0E93239D81A97f6',\n",
      " '0x1ECdE7223747601823f7535d7968Ba98b4881E09']\n"
     ]
    },
    {
     "name": "stderr",
     "output_type": "stream",
     "text": [
      "/Users/conflux-y/Documents/code/cfx-address/build/__editable__.cfx_address-1.0.0b16-py3-none-any/cfx_address/address.py:284: UserWarning: eth_checksum_address will be deprecated in a future version. use hex_address instead\n",
      "  warnings.warn(\"eth_checksum_address will be deprecated in a future version. use hex_address instead\")\n"
     ]
    }
   ],
   "source": [
    "addr = random_account.address\n",
    "print(f\"the type of addr: {type(addr)}\")\n",
    "# a Base32Address object is also a `str`\n",
    "assert isinstance(addr, str)\n",
    "\n",
    "# encode a base32 address from hex address and network_id\n",
    "# it is also supported to use `w3.address(\"cfxtest:aatp533cg7d0agbd87kz48nj1mpnkca8be1rz695j4\")`\n",
    "address = w3.address(\"0x1ecde7223747601823f7535d7968ba98b4881e09\", network_id=1)\n",
    "print(address)\n",
    "pprint([\n",
    "    address.address_type,\n",
    "    address.network_id,\n",
    "    address.hex_address,\n",
    "    address.verbose_address,\n",
    "    address.abbr,\n",
    "    address.mapped_evm_space_address,\n",
    "    address.eth_checksum_address,\n",
    "])"
   ]
  },
  {
   "cell_type": "markdown",
   "metadata": {},
   "source": [
    "## Wallet\n",
    "\n",
    "We use a `wallet` middleware to help us sign and send transactions. `w3.wallet` will sign the unsigned transaction sent via `w3.cfx.send_transaction` if the transaction is `from` an account in `w3.wallet`.\n",
    "\n",
    "> `wallet` middleware follows the behaviour of `web3.py`'s `construct_sign_and_send_raw_middleware`, but provides more feature. For example, we can use `w3.wallet.add_account`, `w3.wallet.add_accounts`, `w3.wallet.pop` to add or remove accounts dynamically. "
   ]
  },
  {
   "cell_type": "code",
   "execution_count": 6,
   "metadata": {},
   "outputs": [
    {
     "data": {
      "text/plain": [
       "AttributeDict({'transactionHash': HexBytes('0xc76f94f0d8db2b5b29fac2d523fac28bb19e9912a9b3e2222ff1b846d454a549'),\n",
       " 'index': 0,\n",
       " 'blockHash': HexBytes('0x9a787033284ee289da5c78b62392fa1189902d4e9a560fb16939780b7274c03e'),\n",
       " 'epochNumber': 101785217,\n",
       " 'from': 'cfxtest:aammgprea901abxf3778bpct33tbvdgfn6mxsucy09',\n",
       " 'to': 'cfxtest:aammgprea901abxf3778bpct33tbvdgfn6mxsucy09',\n",
       " 'gasUsed': 21000,\n",
       " 'gasFee': 21000000000000 Drip,\n",
       " 'contractCreated': None,\n",
       " 'logs': [],\n",
       " 'logsBloom': HexBytes('0x00000000000000000000000000000000000000000000000000000000000000000000000000000000000000000000000000000000000000000000000000000000000000000000000000000000000000000000000000000000000000000000000000000000000000000000000000000000000000000000000000000000000000000000000000000000000000000000000000000000000000000000000000000000000000000000000000000000000000000000000000000000000000000000000000000000000000000000000000000000000000000000000000000000000000000000000000000000000000000000000000000000000000000000000000000000'),\n",
       " 'stateRoot': HexBytes('0xb85c922c1bb18999cdeb750e1b3265c5e7a339d4305ad2f942379680f0a6d7ef'),\n",
       " 'outcomeStatus': 0,\n",
       " 'txExecErrorMsg': None,\n",
       " 'gasCoveredBySponsor': False,\n",
       " 'storageCoveredBySponsor': False,\n",
       " 'storageCollateralized': 0,\n",
       " 'storageReleased': []})"
      ]
     },
     "execution_count": 6,
     "metadata": {},
     "output_type": "execute_result"
    }
   ],
   "source": [
    "# wallet serves as a middleware for conflux_web3 and contains a collection of LocalAccount\n",
    "assert w3.wallet is w3.middleware_onion[\"wallet\"]\n",
    "\n",
    "w3.wallet.add_account(random_account)\n",
    "\n",
    "assert random_account.address in w3.wallet\n",
    "w3.cfx.send_transaction({\n",
    "    \"from\": random_account.address,\n",
    "    \"to\": random_account.address,\n",
    "    \"value\": 10**18\n",
    "}).executed()"
   ]
  },
  {
   "cell_type": "markdown",
   "metadata": {},
   "source": [
    "### use `w3.cfx.default_account` to add account to wallet\n",
    "\n",
    "If `w3.cfx.default_account` is set, `from` field of the sent transaction will be set to `w3.cfx.default_account` if empty. \n",
    "\n",
    "`w3.cfx.default_account` is a `Base32Address`, but can be set using a `LocalAccount` object. In this case, the provided `LocalAccount` object will be added to the wallet at the same time. \n",
    "\n",
    "```python\n",
    "w3.cfx.default_account = random_account\n",
    "```\n",
    "\n",
    "is equivalent to\n",
    "\n",
    "```python\n",
    "w3.cfx.default_account = random_account.address\n",
    "w3.wallet.add_account(random_account)\n",
    "```"
   ]
  }
 ],
 "metadata": {
  "kernelspec": {
   "display_name": "Python 3.9.13 ('sdk')",
   "language": "python",
   "name": "python3"
  },
  "language_info": {
   "codemirror_mode": {
    "name": "ipython",
    "version": 3
   },
   "file_extension": ".py",
   "mimetype": "text/x-python",
   "name": "python",
   "nbconvert_exporter": "python",
   "pygments_lexer": "ipython3",
   "version": "3.9.13"
  },
  "orig_nbformat": 4,
  "vscode": {
   "interpreter": {
    "hash": "a3057bbf184bca29acc6a0538c16f383babaf4f383bee8205e8e826137244d0e"
   }
  }
 },
 "nbformat": 4,
 "nbformat_minor": 2
}
