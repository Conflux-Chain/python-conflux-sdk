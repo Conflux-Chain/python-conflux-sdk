{
 "cells": [
  {
   "cell_type": "markdown",
   "metadata": {},
   "source": [
    "# Sign Data Other Than Transactions\n",
    "\n",
    "Run this example online by clicking `🚀` -> `Binder` on the top bar!\n",
    "\n",
    "In Ethereum, it is recommended to follow [EIP-712](https://eips.ethereum.org/EIPS/eip-712) to sign data and verify signatures, while in Conflux, we follow [CIP-23](https://github.com/Conflux-Chain/CIPs/blob/master/CIPs/cip-23.md) to sign and verify data. \n",
    "\n",
    "The way to sign and verify data is consistent with `eth-account`, here are the examples"
   ]
  },
  {
   "cell_type": "markdown",
   "metadata": {},
   "source": [
    "## Sign Message"
   ]
  },
  {
   "cell_type": "code",
   "execution_count": 1,
   "metadata": {},
   "outputs": [],
   "source": [
    "from cfx_account import Account\n",
    "from cfx_account.messages import encode_defunct\n",
    "\n",
    "message = \"Hello World\"\n",
    "\n",
    "acct = Account.create()\n",
    "\n",
    "# message should be preprocessed before signing\n",
    "signable_message = encode_defunct(text=message)\n",
    "# sign\n",
    "signed = acct.sign_message(signable_message)\n",
    "\n",
    "# verify signature\n",
    "assert acct.address == Account.recover_message(signable_message, signature=signed.signature)"
   ]
  },
  {
   "cell_type": "markdown",
   "metadata": {},
   "source": [
    "## Sign Structured Data\n",
    "\n",
    "As is shown below, `typed_data` is an example of structured data defined by [CIP-23](https://github.com/Conflux-Chain/CIPs/blob/master/CIPs/cip-23.md)"
   ]
  },
  {
   "cell_type": "code",
   "execution_count": null,
   "metadata": {},
   "outputs": [],
   "source": [
    "from cfx_account.messages import encode_structured_data\n",
    "\n",
    "typed_data = {\n",
    "    \"types\": {\n",
    "        \"CIP23Domain\": [\n",
    "            {\n",
    "                \"name\": \"name\",\n",
    "                \"type\": \"string\"\n",
    "            },\n",
    "            {\n",
    "                \"name\": \"version\",\n",
    "                \"type\": \"string\"\n",
    "            },\n",
    "            {\n",
    "                \"name\": \"chainId\",\n",
    "                \"type\": \"uint256\"\n",
    "            },\n",
    "            {\n",
    "                \"name\": \"verifyingContract\",\n",
    "                \"type\": \"address\"\n",
    "            }\n",
    "        ],\n",
    "        \"Person\": [\n",
    "            {\n",
    "                \"name\": \"name\",\n",
    "                \"type\": \"string\"\n",
    "            },\n",
    "            {\n",
    "                \"name\": \"wallet\",\n",
    "                \"type\": \"address\"\n",
    "            }\n",
    "        ],\n",
    "        \"Mail\": [\n",
    "            {\n",
    "                \"name\": \"from\",\n",
    "                \"type\": \"Person\"\n",
    "            },\n",
    "            {\n",
    "                \"name\": \"to\",\n",
    "                \"type\": \"Person\"\n",
    "            },\n",
    "            {\n",
    "                \"name\": \"contents\",\n",
    "                \"type\": \"string\"\n",
    "            }\n",
    "        ]\n",
    "    },\n",
    "    \"primaryType\": \"Mail\",\n",
    "    \"domain\": {\n",
    "        \"name\": \"Ether Mail\",\n",
    "        \"version\": \"1\",\n",
    "        \"chainId\": 1,\n",
    "        \"verifyingContract\": \"0xCcCCccccCCCCcCCCCCCcCcCccCcCCCcCcccccccC\"\n",
    "    },\n",
    "    \"message\": {\n",
    "        \"from\": {\n",
    "            \"name\": \"Cow\",\n",
    "            \"wallet\": \"0xCD2a3d9F938E13CD947Ec05AbC7FE734Df8DD826\"\n",
    "        },\n",
    "        \"to\": {\n",
    "            \"name\": \"Bob\",\n",
    "            \"wallet\": \"0xbBbBBBBbbBBBbbbBbbBbbbbBBbBbbbbBbBbbBBbB\"\n",
    "        },\n",
    "        \"contents\": \"Hello, Bob!\"\n",
    "    }\n",
    "}\n",
    "\n",
    "# preprocess structured data\n",
    "signable_message = encode_structured_data(primitive=typed_data)\n",
    "# sign\n",
    "signed = acct.sign_message(signable_message)\n",
    "\n",
    "# verify signature\n",
    "assert acct.address == Account.recover_message(signable_message, signature=signed.signature)"
   ]
  }
 ],
 "metadata": {
  "kernelspec": {
   "display_name": "Python 3.9.13 ('sdk')",
   "language": "python",
   "name": "python3"
  },
  "language_info": {
   "codemirror_mode": {
    "name": "ipython",
    "version": 3
   },
   "file_extension": ".py",
   "mimetype": "text/x-python",
   "name": "python",
   "nbconvert_exporter": "python",
   "pygments_lexer": "ipython3",
   "version": "3.9.13"
  },
  "orig_nbformat": 4,
  "vscode": {
   "interpreter": {
    "hash": "a3057bbf184bca29acc6a0538c16f383babaf4f383bee8205e8e826137244d0e"
   }
  }
 },
 "nbformat": 4,
 "nbformat_minor": 2
}
