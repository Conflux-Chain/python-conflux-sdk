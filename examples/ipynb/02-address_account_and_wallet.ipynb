{
 "cells": [
  {
   "cell_type": "markdown",
   "metadata": {},
   "source": [
    "## conflux-web3 code example 02: account, address and wallet\n",
    "\n",
    "Run this example online --> [![Binder](https://mybinder.org/badge_logo.svg)](https://mybinder.org/v2/gh/Conflux-Chain/python-conflux-sdk/dev?labpath=examples%2Fipynb%2F02-address_account_and_wallet.ipynb)"
   ]
  },
  {
   "cell_type": "markdown",
   "metadata": {},
   "source": [
    "### Preparation\n",
    "\n",
    "This is the preparation part, we prepare the `web3` instance and `private_key`."
   ]
  },
  {
   "cell_type": "code",
   "execution_count": 5,
   "metadata": {},
   "outputs": [],
   "source": [
    "# prerequisites: \n",
    "# we create an account and claim 1000 CFX from the faucet\n",
    "from pprint import pprint\n",
    "from conflux_web3 import Web3\n",
    "\n",
    "w3_ = Web3(Web3.HTTPProvider(\"https://test.confluxrpc.com\"))\n",
    "\n",
    "acct = w3_.account.create()\n",
    "\n",
    "w3_.cfx.default_account = acct\n",
    "\n",
    "faucet = w3_.cfx.contract(name=\"Faucet\")\n",
    "tx_receipt = faucet.functions.claimCfx().transact().executed()\n",
    "\n",
    "# we use a new w3 object for the following presentation\n",
    "w3 = Web3(Web3.HTTPProvider(\"https://test.confluxrpc.com\"))\n",
    "private_key: str = acct._private_key.hex()"
   ]
  },
  {
   "cell_type": "markdown",
   "metadata": {},
   "source": [
    "### Account and Address\n",
    "\n",
    "In web3, typically, owning an account means knowing a **secret**, or **private key**. This secret should be kept secret and no one else knows it.\n",
    "\n",
    "Although private should be kept secret, ***address*** can be revealed. Address is a string derived from the private key, and identifies an account. In Conflux, addresses are encoded in base32 format.\n"
   ]
  },
  {
   "cell_type": "markdown",
   "metadata": {},
   "source": [
    "#### `LocalAccount` Object\n",
    "\n",
    "`w3.account` is a factory which is used to produce `LocalAccount` objects (e.g. `random_account`). `LocalAccount` object contains the account secret and can be used to sign transactions.\n",
    "\n",
    "**NOTE: It is not recommended to manually sign the tx because it is tedious, refer to [wallet](#wallet) part to see how to sign and send a transaction by using wallet. Or you can refer to [construct_transaction_from_scratch](./11-construct_transaction_from_scratch.ipynb) to see how to manually sign transactions correctly.**\n",
    "\n",
    "> More documents: `w3.account` is a `cfx_account.Account` object inherited from `eth_account.Account`, and most of its apis are consistent with [eth_account](https://eth-account.readthedocs.io/en/stable/eth_account.html)."
   ]
  },
  {
   "cell_type": "code",
   "execution_count": 6,
   "metadata": {},
   "outputs": [
    {
     "name": "stdout",
     "output_type": "stream",
     "text": [
      "account address: cfxtest:aaj3k1557pm1je82x5u8tjb31xfpn4d9b2fd023k0y\n",
      "account private key: 0x51bc09970dd9d7b5ddb6d2524aa8455cc59666afb9789a079552a74a0f519d1c\n",
      "signed raw tx: 0xf867e301843b9aca00825208940000000000000000000000000000000000000000018064018001a009eb8e71a67dd31efc192a59aacc9621413c07332563085e4eca1bf49e8be815a04053046c1028298957a56276753b374934daca6acef0ca5be84dd91353d325a8\n"
     ]
    }
   ],
   "source": [
    "random_account = w3.account.from_key(private_key)\n",
    "print(f\"account address: {random_account.address}\")\n",
    "print(f\"account private key: {private_key}\")\n",
    "\n",
    "transaction = {\n",
    "    'to': w3.address.zero_address(),\n",
    "    'nonce': 1,\n",
    "    'value': 1,\n",
    "    'gas': 21000,\n",
    "    'gasPrice': 10**9,\n",
    "    'storageLimit': 0,\n",
    "    'epochHeight': 100,\n",
    "    'chainId': 1\n",
    "}\n",
    "print(f\"signed raw tx: {random_account.sign_transaction(transaction).rawTransaction.hex()}\")"
   ]
  },
  {
   "cell_type": "markdown",
   "metadata": {},
   "source": [
    "#### Conflux Addresses\n",
    "\n",
    "In Conflux, addresses are encoded in base32 format following [CIP-37](https://github.com/Conflux-Chain/CIPs/blob/master/CIPs/cip-37.md). You can infer which network the address belongs to simply from the address literal."
   ]
  },
  {
   "cell_type": "code",
   "execution_count": 7,
   "metadata": {},
   "outputs": [],
   "source": [
    "# \"cfxtest\" marks an address in testnet\n",
    "assert random_account.address.startswith(\"cfxtest:\")"
   ]
  },
  {
   "cell_type": "markdown",
   "metadata": {},
   "source": [
    "The addresses returned by SDK are all wrapped by class `Base32Address`. The class provides convenient methods to operate base32 addresses, but you can also use `Base32Address` object as trivial python `str` object. \n",
    "You can visit [Base32Address documentation](https://conflux-fans.github.io/cfx-address/cfx_address.html#module-cfx_address.address) for more information."
   ]
  },
  {
   "cell_type": "code",
   "execution_count": 8,
   "metadata": {},
   "outputs": [
    {
     "name": "stdout",
     "output_type": "stream",
     "text": [
      "the type of addr: <class 'cfx_address.address.Base32Address'>\n",
      "cfxtest:aatp533cg7d0agbd87kz48nj1mpnkca8be1rz695j4\n",
      "['user',\n",
      " 1,\n",
      " '0x1ecde7223747601823f7535d7968ba98b4881e09',\n",
      " 'CFXTEST:TYPE.USER:AATP533CG7D0AGBD87KZ48NJ1MPNKCA8BE1RZ695J4',\n",
      " 'cfxtest:aat...95j4',\n",
      " '0x349f086998cF4a0C5a00b853a0E93239D81A97f6',\n",
      " '0x1ECdE7223747601823f7535d7968Ba98b4881E09']\n"
     ]
    }
   ],
   "source": [
    "addr = random_account.address\n",
    "print(f\"the type of addr: {type(addr)}\")\n",
    "# a Base32Address object is also a `str`\n",
    "assert isinstance(addr, str)\n",
    "\n",
    "# encode a base32 address from hex address and network_id\n",
    "# it is also supported to use `w3.address(\"cfxtest:aatp533cg7d0agbd87kz48nj1mpnkca8be1rz695j4\")`\n",
    "address = w3.address(\"0x1ecde7223747601823f7535d7968ba98b4881e09\", network_id=1)\n",
    "print(address)\n",
    "pprint([\n",
    "    address.address_type,\n",
    "    address.network_id,\n",
    "    address.hex_address,\n",
    "    address.verbose_address,\n",
    "    address.abbr,\n",
    "    address.mapped_evm_space_address,\n",
    "    address.eth_checksum_address,\n",
    "])"
   ]
  },
  {
   "cell_type": "markdown",
   "metadata": {},
   "source": [
    "### Wallet\n",
    "\n",
    "We use a `wallet` middleware to help us sign transactions. `w3.wallet` will sign the unsigned transaction sent via `w3.cfx.send_transaction` if it has the account of `from` address.\n",
    "\n",
    "> `wallet` middleware follows the implementation of `web3.py`'s `construct_sign_and_send_middleware`, but provides more feature. For example, we can use `w3.wallet.add_account`, `w3.wallet.add_accounts`, `w3.wallet.pop` to add or remove accounts dynamically. "
   ]
  },
  {
   "cell_type": "code",
   "execution_count": 9,
   "metadata": {},
   "outputs": [
    {
     "data": {
      "text/plain": [
       "AttributeDict({'transactionHash': HexBytes('0xc51a61da9409d60ddeeef07f39ec4db60509c49a2c7397e6c72a9130aad6ee24'),\n",
       " 'index': 0,\n",
       " 'blockHash': HexBytes('0xf07d259e5a50f2bffceeaad448b88c846d6d6ed1e9452f164dacc87ad399bd41'),\n",
       " 'epochNumber': 98915538,\n",
       " 'from': 'cfxtest:aaj3k1557pm1je82x5u8tjb31xfpn4d9b2fd023k0y',\n",
       " 'to': 'cfxtest:aaj3k1557pm1je82x5u8tjb31xfpn4d9b2fd023k0y',\n",
       " 'gasUsed': 21000,\n",
       " 'gasFee': 21000000000000 Drip,\n",
       " 'contractCreated': None,\n",
       " 'logs': [],\n",
       " 'logsBloom': HexBytes('0x00000000000000000000000000000000000000000000000000000000000000000000000000000000000000000000000000000000000000000000000000000000000000000000000000000000000000000000000000000000000000000000000000000000000000000000000000000000000000000000000000000000000000000000000000000000000000000000000000000000000000000000000000000000000000000000000000000000000000000000000000000000000000000000000000000000000000000000000000000000000000000000000000000000000000000000000000000000000000000000000000000000000000000000000000000000'),\n",
       " 'stateRoot': HexBytes('0xe3e0514bd403ccafcb66069676e99363f6a7b87c914b112a4b91d1cdcb90d337'),\n",
       " 'outcomeStatus': 0,\n",
       " 'txExecErrorMsg': None,\n",
       " 'gasCoveredBySponsor': False,\n",
       " 'storageCoveredBySponsor': False,\n",
       " 'storageCollateralized': 0,\n",
       " 'storageReleased': []})"
      ]
     },
     "execution_count": 9,
     "metadata": {},
     "output_type": "execute_result"
    }
   ],
   "source": [
    "# wallet serves as a middleware for conflux_web3 and contains a collection of LocalAccount\n",
    "assert w3.wallet is w3.middleware_onion[\"wallet\"]\n",
    "\n",
    "w3.wallet.add_account(random_account)\n",
    "\n",
    "assert random_account.address in w3.wallet\n",
    "w3.cfx.send_transaction({\n",
    "    \"from\": random_account.address,\n",
    "    \"to\": random_account.address,\n",
    "    \"value\": 10**18\n",
    "}).executed()"
   ]
  },
  {
   "cell_type": "markdown",
   "metadata": {},
   "source": [
    "#### Syntactic Sugar of `w3.cfx.default_account`\n",
    "\n",
    "If `w3.cfx.default_account` is set, a transaction without `from` field will be considered from `w3.cfx.default_account`. \n",
    "\n",
    "`w3.cfx.default_account` is an address, but you can set it using a `LocalAccount` object. In this case, the provided account will be added to the wallet at the same time. \n",
    "\n",
    "```python\n",
    "w3.cfx.default_account = random_account\n",
    "```\n",
    "\n",
    "is equivalent to\n",
    "\n",
    "```python\n",
    "w3.cfx.default_account = random_account.address\n",
    "w3.wallet.add_account(random_account)\n",
    "```"
   ]
  }
 ],
 "metadata": {
  "kernelspec": {
   "display_name": "Python 3.9.13 ('sdk')",
   "language": "python",
   "name": "python3"
  },
  "language_info": {
   "codemirror_mode": {
    "name": "ipython",
    "version": 3
   },
   "file_extension": ".py",
   "mimetype": "text/x-python",
   "name": "python",
   "nbconvert_exporter": "python",
   "pygments_lexer": "ipython3",
   "version": "3.9.13"
  },
  "orig_nbformat": 4,
  "vscode": {
   "interpreter": {
    "hash": "a3057bbf184bca29acc6a0538c16f383babaf4f383bee8205e8e826137244d0e"
   }
  }
 },
 "nbformat": 4,
 "nbformat_minor": 2
}
