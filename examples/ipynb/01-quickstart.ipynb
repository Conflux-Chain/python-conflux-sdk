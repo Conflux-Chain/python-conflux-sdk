{
 "cells": [
  {
   "cell_type": "markdown",
   "metadata": {},
   "source": [
    "## conflux-web3 code example 01: quickstart\n",
    "\n",
    "Run this example online --> [![Binder](https://mybinder.org/badge_logo.svg)](https://mybinder.org/v2/gh/Conflux-Chain/python-conflux-sdk/dev?labpath=examples%2Fipynb%2F01-quick_start.ipynb)\n",
    "\n",
    "This example will present:\n",
    "\n",
    "* how to connect to the blockchain via a node\n",
    "* how to create and use an account\n",
    "* how to interact with a contract or simply send a transaction"
   ]
  },
  {
   "cell_type": "markdown",
   "metadata": {},
   "source": [
    "### Connect to a Node\n",
    "\n",
    "We are supposed to connect to the Conflux network via a node. You can run a node locally following [this tutorial](https://developer.confluxnetwork.org/conflux-doc/docs/get_started/) but the node might occupy lots of resources. In this example, we connect to the [Conflux testnet public RPC endpoint](https://developer.confluxnetwork.org/sdks-and-tools/en/conflux_rpcs)."
   ]
  },
  {
   "cell_type": "code",
   "execution_count": 1,
   "metadata": {},
   "outputs": [],
   "source": [
    "from conflux_web3 import Web3\n",
    "\n",
    "w3 = Web3(Web3.HTTPProvider(\"https://test.confluxrpc.com\"))\n",
    "assert w3.is_connected()"
   ]
  },
  {
   "cell_type": "markdown",
   "metadata": {},
   "source": [
    "### Create an Account\n",
    "\n",
    "In web3, typically, owning an account means knowing a **secret**, or **private key**. This secret should be kept secret and no one else knows it.\n",
    "\n",
    "Now we will create a new account by using `w3.account.create()`. This function generates an account from a random secret key. And as this account is generated from a random key, its balance is supposed to be `0`.\n",
    "\n",
    "It is also supported to use `w3.account.from_key(\"0x....\")` to use your secret key (**but don't run it in an unsafe environment!**)"
   ]
  },
  {
   "cell_type": "code",
   "execution_count": 2,
   "metadata": {},
   "outputs": [
    {
     "name": "stdout",
     "output_type": "stream",
     "text": [
      "account address: cfxtest:aaswj28188e35rh1vguksgnuz2xy4f8apye3745zxb\n",
      "account secret key: 0x54d957b2485980fc2119ccce6480ad0d53219161595424fbf7dc452d59c6bc82\n",
      "balance for cfxtest:aaswj28188e35rh1vguksgnuz2xy4f8apye3745zxb: 0 Drip\n"
     ]
    }
   ],
   "source": [
    "acct = w3.account.create()\n",
    "print(f\"account address: {acct.address}\")\n",
    "# WARNING: Don't run the following line in production environment, private key should be kept secret\n",
    "print(f\"account secret key: {acct._private_key.hex()}\")\n",
    "balance = w3.cfx.get_balance(acct.address)\n",
    "assert balance == 0\n",
    "print(f\"balance for {acct.address}: {balance}\")"
   ]
  },
  {
   "cell_type": "markdown",
   "metadata": {},
   "source": [
    "### Claim CFX via Testnet Faucet Contract\n",
    "\n",
    "Because the account's balance is `0`, it cannot afford the **gas** required to send a transaction. However, Conflux's [sponsorship mechanism](https://forum.conflux.fun/t/conflux-sponsorship-mechanism/12764) allows user to interact with a smart contract without paying gas, so we can claim CFX from [testnet faucet](https://testnet.confluxscan.net/address/cfxtest:acejjfa80vj06j2jgtz9pngkv423fhkuxj786kjr61).\n",
    "\n",
    "> What is a smart contract? A smart contract is a program deployed on the blockchain network. It provides interfaces to complete specific logic. In the example, invoking the `claimCfx` method of faucet contract will give you 1000 testnet CFX."
   ]
  },
  {
   "cell_type": "code",
   "execution_count": 3,
   "metadata": {},
   "outputs": [
    {
     "name": "stdout",
     "output_type": "stream",
     "text": [
      "tx hash is: 0xf174cf4be19b33da58504ef850bfd055bd031324135093276abbee1c34df854d\n",
      "conflux scan link: https://testnet.confluxscan.net/transaction/0xf174cf4be19b33da58504ef850bfd055bd031324135093276abbee1c34df854d\n"
     ]
    }
   ],
   "source": [
    "# Firstly we will set `w3.cfx.default_account` to `acct``, after that transactions can be automatically sent.\n",
    "w3.cfx.default_account = acct\n",
    "\n",
    "# Next we will interact with testnet Faucet contract\n",
    "faucet = w3.cfx.contract(name=\"Faucet\")\n",
    "tx_hash = faucet.functions.claimCfx().transact()\n",
    "\n",
    "print(f\"tx hash is: {tx_hash.hex()}\\n\"\n",
    "      f\"conflux scan link: https://testnet.confluxscan.net/transaction/{tx_hash.hex()}\")"
   ]
  },
  {
   "cell_type": "code",
   "execution_count": 4,
   "metadata": {},
   "outputs": [
    {
     "name": "stdout",
     "output_type": "stream",
     "text": [
      "balance for cfxtest:aaswj28188e35rh1vguksgnuz2xy4f8apye3745zxb: 1000 CFX\n"
     ]
    }
   ],
   "source": [
    "# in Conflux, the transaction will be executed only after it appears on the chain for 5 epoch\n",
    "# `tx_hash.executed()` is equivalent to `w3.cfx.wait_for_transaction_receipt(tx_hash)`\n",
    "tx_hash.executed()\n",
    "print(f\"balance for {acct.address}: {w3.cfx.get_balance(acct.address).to('CFX')}\")"
   ]
  },
  {
   "cell_type": "markdown",
   "metadata": {},
   "source": [
    "### Send CFX to Others\n",
    "\n",
    "Now we have plenty of testnet CFX to do whatever you want. For example, we can send 1 CFX to zero address."
   ]
  },
  {
   "cell_type": "code",
   "execution_count": 5,
   "metadata": {},
   "outputs": [
    {
     "name": "stdout",
     "output_type": "stream",
     "text": [
      "balance for cfxtest:aaswj28188e35rh1vguksgnuz2xy4f8apye3745zxb: 998.999979 CFX\n"
     ]
    }
   ],
   "source": [
    "# Now acct has CFX\n",
    "# send 1 CFX to zero address\n",
    "w3.cfx.send_transaction({\n",
    "    \"to\": w3.address.zero_address(),\n",
    "    \"value\": 10**18,\n",
    "}).executed()\n",
    "print(f\"balance for {acct.address}: {w3.cfx.get_balance(acct.address).to('CFX')}\")"
   ]
  }
 ],
 "metadata": {
  "kernelspec": {
   "display_name": "Python 3.9.13 ('venv39': venv)",
   "language": "python",
   "name": "python3"
  },
  "language_info": {
   "codemirror_mode": {
    "name": "ipython",
    "version": 3
   },
   "file_extension": ".py",
   "mimetype": "text/x-python",
   "name": "python",
   "nbconvert_exporter": "python",
   "pygments_lexer": "ipython3",
   "version": "3.9.13"
  },
  "orig_nbformat": 4,
  "vscode": {
   "interpreter": {
    "hash": "9b7fb9a8ba8be13c6b92820560c2e7f0c114ca03a55934a046d1bf6afa009968"
   }
  }
 },
 "nbformat": 4,
 "nbformat_minor": 2
}
