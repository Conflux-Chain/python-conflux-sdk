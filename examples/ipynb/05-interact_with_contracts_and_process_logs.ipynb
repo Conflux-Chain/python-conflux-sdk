{
 "cells": [
  {
   "cell_type": "markdown",
   "metadata": {},
   "source": [
    "## `conflux-web3` Code Example 05: Interact with Contracts and Process Logs\n",
    "\n",
    "Run this example online --> [![Binder](https://mybinder.org/badge_logo.svg)](https://mybinder.org/v2/gh/Conflux-Chain/python-conflux-sdk/dev?labpath=examples%2Fipynb%2F05-interact_with_contracts_and_process_logs.ipynb)"
   ]
  },
  {
   "cell_type": "markdown",
   "metadata": {},
   "source": [
    "### Preparation"
   ]
  },
  {
   "cell_type": "code",
   "execution_count": 1,
   "metadata": {},
   "outputs": [
    {
     "name": "stdout",
     "output_type": "stream",
     "text": [
      "\n"
     ]
    }
   ],
   "source": [
    "import pprint\n",
    "from conflux_web3 import Web3\n",
    "\n",
    "w3 = Web3(Web3.HTTPProvider(\"https://test.confluxrpc.com\"))\n",
    "account = w3.account.create()\n",
    "w3.cfx.default_account = account\n",
    "\n",
    "faucet = w3.cfx.contract(name=\"Faucet\")\n",
    "faucet.functions.claimCfx().transact().executed()\n",
    "print()"
   ]
  },
  {
   "cell_type": "markdown",
   "metadata": {},
   "source": [
    "## Interact with Contracts\n",
    "\n",
    "In the [Preparation](#preparation) part, we have already shown how to interact with a contract. A contract instance can be initialized from `w3.cfx.contract`. With the `name` paramter, some frequently used contract instance can be created. "
   ]
  },
  {
   "cell_type": "markdown",
   "metadata": {},
   "source": [
    "### Compile and Deploy a Contract\n",
    "\n",
    "A contract is a program running on the blockchain. And we need to firstly **deploy** a contract to the blockchain if we want to interact with a program written by ourselves.\n",
    "\n",
    "Here is a simple smart contract:\n",
    "\n",
    "``` solidity\n",
    "// SPDX-License-Identifier: MIT\n",
    "// modified from https://solidity-by-example.org/first-app/\n",
    "pragma solidity ^0.8.13;\n",
    "\n",
    "contract Counter {\n",
    "    uint public count;\n",
    "\n",
    "    event Change(address indexed sender, uint new_value);\n",
    "\n",
    "    constructor(uint init_value) {\n",
    "        count = init_value;\n",
    "    }\n",
    "\n",
    "    // Function to get the current count\n",
    "    function get() public view returns (uint) {\n",
    "        return count;\n",
    "    }\n",
    "\n",
    "    // Function to increment count by 1\n",
    "    function inc() public {\n",
    "        count += 1;\n",
    "        emit Change(msg.sender, count);\n",
    "    }\n",
    "}\n",
    "```\n",
    "\n",
    "After this contract is compiled and deployed, you can:\n",
    "\n",
    "* read the value of `count` from interface `get`\n",
    "* add the variable `count` by invoking `inc`\n",
    "\n",
    "Besides, the contract will emit an event `Change` after `inc` is executed, we can know what has happened on chain by analyzing the logs.\n",
    "\n",
    "You might need to run `pip install py-solc-x` if you are running the the codes in your local environment."
   ]
  },
  {
   "cell_type": "code",
   "execution_count": 2,
   "metadata": {},
   "outputs": [],
   "source": [
    "# py-solc-x is already installed in the test environment\n",
    "from solcx import install_solc, compile_source\n",
    "source_code = r\"\"\"\n",
    "// SPDX-License-Identifier: MIT\n",
    "// modified from https://solidity-by-example.org/first-app/\n",
    "pragma solidity ^0.8.13;\n",
    "\n",
    "contract Counter {\n",
    "    uint public count;\n",
    "\n",
    "    event Change(address indexed sender, uint new_value);\n",
    "\n",
    "    constructor(uint init_value) {\n",
    "        count = init_value;\n",
    "    }\n",
    "\n",
    "    // Function to get the current count\n",
    "    function get() public view returns (uint) {\n",
    "        return count;\n",
    "    }\n",
    "\n",
    "    // Function to increment count by 1\n",
    "    function inc() public {\n",
    "        count += 1;\n",
    "        emit Change(msg.sender, count);\n",
    "    }\n",
    "}\n",
    "\"\"\"\n",
    "metadata = compile_source(\n",
    "    source_code,\n",
    "    output_values=['abi', 'bin'],\n",
    "    solc_version=install_solc(version=\"0.8.13\")\n",
    ").popitem()[1]\n",
    "# \"abi\" defines the interface, \"bin\" is the contract bytecode\n",
    "assert \"abi\" in metadata and \"bin\" in metadata"
   ]
  },
  {
   "cell_type": "code",
   "execution_count": 3,
   "metadata": {},
   "outputs": [
    {
     "name": "stdout",
     "output_type": "stream",
     "text": [
      "contract deployed: cfxtest:acgyp3zvdkug1ex3d1db9fwy5pge5b0mb6d725pdj3\n"
     ]
    }
   ],
   "source": [
    "# init contract from metadata, bytecode is needed to deploy a contract\n",
    "factory = w3.cfx.contract(abi=metadata[\"abi\"], bytecode=metadata[\"bin\"])\n",
    "\n",
    "# deploy the contract\n",
    "tx_receipt = factory.constructor(init_value=0).transact().executed()\n",
    "contract_address = tx_receipt[\"contractCreated\"]\n",
    "assert contract_address is not None\n",
    "print(f\"contract deployed: {contract_address}\")\n",
    "\n",
    "# init a contract with address param, now we can interact with it\n",
    "deployed_contract = w3.cfx.contract(address=contract_address, abi=metadata[\"abi\"])"
   ]
  },
  {
   "cell_type": "markdown",
   "metadata": {},
   "source": [
    "### Interact with the Deployed Contract"
   ]
  },
  {
   "cell_type": "code",
   "execution_count": 4,
   "metadata": {},
   "outputs": [
    {
     "name": "stdout",
     "output_type": "stream",
     "text": [
      "counter added to 1\n"
     ]
    }
   ],
   "source": [
    "tx_hash = deployed_contract.functions.inc().transact()\n",
    "inc_receipt = w3.cfx.wait_for_transaction_receipt(tx_hash)\n",
    "\n",
    "# \"call\" a contract means virtually execute the transaction without actually sending a transaction\n",
    "# 2 ways to call, either is ok\n",
    "current_counter = deployed_contract.functions.get().call()\n",
    "current_counter_ = deployed_contract.caller().get()\n",
    "assert current_counter == current_counter_ == 1\n",
    "print(\"counter added to 1\")"
   ]
  },
  {
   "cell_type": "markdown",
   "metadata": {},
   "source": [
    "## Process Logs\n",
    "\n",
    "We can check transaction logs to know what has happened after transaction execution. However, raw logs are encoded in hex and is hard to read."
   ]
  },
  {
   "cell_type": "code",
   "execution_count": 5,
   "metadata": {},
   "outputs": [
    {
     "name": "stdout",
     "output_type": "stream",
     "text": [
      "raw log: \n",
      "{'address': 'cfxtest:acgyp3zvdkug1ex3d1db9fwy5pge5b0mb6d725pdj3',\n",
      " 'blockHash': HexBytes('0x607892fdb75b85fc35690d34cb8ed9bbb01fcf5cf310ed7fdec9b27697d213b3'),\n",
      " 'data': HexBytes('0x0000000000000000000000000000000000000000000000000000000000000001'),\n",
      " 'epochNumber': 99048581,\n",
      " 'logIndex': 0,\n",
      " 'topics': [HexBytes('0x05b5d46649ab2015d3a08705cbaa391e094d9594c393ce89d3afffe960744da1'),\n",
      "            HexBytes('0x0000000000000000000000001d9a8272cba63c73e122cfcd45d6fc79e6ce85d3')],\n",
      " 'transactionHash': HexBytes('0xfe7a9caa3f4765f59bc4d9de15a527082f23088139f92a479f17b30ce153cfd6'),\n",
      " 'transactionIndex': 0,\n",
      " 'transactionLogIndex': 0}\n"
     ]
    }
   ],
   "source": [
    "# get_logs parameter definitions: https://developer.confluxnetwork.org/conflux-doc/docs/json_rpc#cfx_getlogs\n",
    "fromEpoch = inc_receipt[\"epochNumber\"]\n",
    "# use get_logs to get raw logs\n",
    "logs = w3.cfx.get_logs(fromEpoch=fromEpoch, address=contract_address)\n",
    "print(\"raw log: \")\n",
    "pprint.pprint(dict(logs[0]))\n"
   ]
  },
  {
   "cell_type": "markdown",
   "metadata": {},
   "source": [
    "In the following parts, we present several approaches to process and filter logs.\n",
    "\n",
    "We can use `contract.event` to process logs. The `args` field of processed log presents"
   ]
  },
  {
   "cell_type": "code",
   "execution_count": 6,
   "metadata": {},
   "outputs": [
    {
     "name": "stdout",
     "output_type": "stream",
     "text": [
      "{'address': 'cfxtest:acgyp3zvdkug1ex3d1db9fwy5pge5b0mb6d725pdj3',\n",
      " 'args': AttributeDict({'sender': 'CFXTEST:TYPE.USER:AAS3ZAXW3SXD269BENH64VS09V68RXYF4PWGE9DTNG', 'new_value': 1}),\n",
      " 'blockHash': HexBytes('0x607892fdb75b85fc35690d34cb8ed9bbb01fcf5cf310ed7fdec9b27697d213b3'),\n",
      " 'epochNumber': 99048581,\n",
      " 'event': 'Change',\n",
      " 'logIndex': None,\n",
      " 'transactionHash': HexBytes('0xfe7a9caa3f4765f59bc4d9de15a527082f23088139f92a479f17b30ce153cfd6'),\n",
      " 'transactionIndex': 0,\n",
      " 'transactionLogIndex': 0}\n"
     ]
    }
   ],
   "source": [
    "processed_logs = deployed_contract.events.Change.process_receipt(inc_receipt)\n",
    "processed_log = processed_logs[0]\n",
    "assert processed_log[\"args\"][\"sender\"] == w3.cfx.default_account\n",
    "assert processed_log[\"args\"][\"new_value\"] == 1\n",
    "\n",
    "# for log processed from transaction receipt, field \"logIndex\" is None\n",
    "pprint.pprint(dict(processed_log))"
   ]
  },
  {
   "cell_type": "markdown",
   "metadata": {},
   "source": [
    "Besides, we can use `contract.events` to encode contract topics and filter logs"
   ]
  },
  {
   "cell_type": "code",
   "execution_count": 7,
   "metadata": {},
   "outputs": [
    {
     "name": "stdout",
     "output_type": "stream",
     "text": [
      "log filtered by topics:\n",
      "{'address': 'cfxtest:acgyp3zvdkug1ex3d1db9fwy5pge5b0mb6d725pdj3',\n",
      " 'blockHash': HexBytes('0x607892fdb75b85fc35690d34cb8ed9bbb01fcf5cf310ed7fdec9b27697d213b3'),\n",
      " 'data': HexBytes('0x0000000000000000000000000000000000000000000000000000000000000001'),\n",
      " 'epochNumber': 99048581,\n",
      " 'logIndex': 0,\n",
      " 'topics': [HexBytes('0x05b5d46649ab2015d3a08705cbaa391e094d9594c393ce89d3afffe960744da1'),\n",
      "            HexBytes('0x0000000000000000000000001d9a8272cba63c73e122cfcd45d6fc79e6ce85d3')],\n",
      " 'transactionHash': HexBytes('0xfe7a9caa3f4765f59bc4d9de15a527082f23088139f92a479f17b30ce153cfd6'),\n",
      " 'transactionIndex': 0,\n",
      " 'transactionLogIndex': 0}\n"
     ]
    }
   ],
   "source": [
    "# generate topics to use getLogs\n",
    "filter_topics = deployed_contract.events.Change.get_filter_topics(\n",
    "    sender=w3.cfx.default_account\n",
    ")\n",
    "new_logs = w3.cfx.get_logs(fromEpoch=fromEpoch, topics=filter_topics)\n",
    "print(\"log filtered by topics:\")\n",
    "pprint.pprint(dict(new_logs[0]))"
   ]
  },
  {
   "cell_type": "markdown",
   "metadata": {},
   "source": [
    "Or we can use `get_logs` interface from `contract.events`"
   ]
  },
  {
   "cell_type": "code",
   "execution_count": 8,
   "metadata": {},
   "outputs": [
    {
     "name": "stdout",
     "output_type": "stream",
     "text": [
      "processed log from contract event get_logs\n",
      "{'address': 'cfxtest:acgyp3zvdkug1ex3d1db9fwy5pge5b0mb6d725pdj3',\n",
      " 'args': AttributeDict({'sender': 'CFXTEST:TYPE.USER:AAS3ZAXW3SXD269BENH64VS09V68RXYF4PWGE9DTNG', 'new_value': 1}),\n",
      " 'blockHash': HexBytes('0x607892fdb75b85fc35690d34cb8ed9bbb01fcf5cf310ed7fdec9b27697d213b3'),\n",
      " 'epochNumber': 99048581,\n",
      " 'event': 'Change',\n",
      " 'logIndex': 0,\n",
      " 'transactionHash': HexBytes('0xfe7a9caa3f4765f59bc4d9de15a527082f23088139f92a479f17b30ce153cfd6'),\n",
      " 'transactionIndex': 0,\n",
      " 'transactionLogIndex': 0}\n"
     ]
    }
   ],
   "source": [
    "# event get_logs will return processed logs\n",
    "new_processed_logs = deployed_contract.events.Change.get_logs(\n",
    "    argument_filters={\n",
    "        \"sender\": w3.cfx.default_account\n",
    "    },\n",
    "    fromEpoch=fromEpoch\n",
    ")\n",
    "print(\"processed log from contract event get_logs\")\n",
    "pprint.pprint(dict(new_processed_logs[0]))"
   ]
  },
  {
   "cell_type": "markdown",
   "metadata": {},
   "source": [
    "`conflux_web3`'s apis are consistent with `web3.py`'s apis. You can also try the examples from `web3.py`'s documentation.\n",
    "* https://web3py.readthedocs.io/en/stable/contracts.html\n",
    "* https://web3py.readthedocs.io/en/stable/examples.html#working-with-contracts\n",
    "* https://web3py.readthedocs.io/en/stable/examples.html#working-with-an-erc20-token-contract"
   ]
  }
 ],
 "metadata": {
  "kernelspec": {
   "display_name": "Python 3.9.13 ('sdk')",
   "language": "python",
   "name": "python3"
  },
  "language_info": {
   "codemirror_mode": {
    "name": "ipython",
    "version": 3
   },
   "file_extension": ".py",
   "mimetype": "text/x-python",
   "name": "python",
   "nbconvert_exporter": "python",
   "pygments_lexer": "ipython3",
   "version": "3.9.13"
  },
  "orig_nbformat": 4,
  "vscode": {
   "interpreter": {
    "hash": "a3057bbf184bca29acc6a0538c16f383babaf4f383bee8205e8e826137244d0e"
   }
  }
 },
 "nbformat": 4,
 "nbformat_minor": 2
}
